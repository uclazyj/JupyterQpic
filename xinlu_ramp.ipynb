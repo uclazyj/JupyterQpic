{
 "cells": [
  {
   "cell_type": "markdown",
   "id": "85ea7f8c-9712-4a44-a228-8ad7df336801",
   "metadata": {},
   "source": [
    "We hope that in the upramp, the $\\alpha_m$ is a constant. From \n",
    "$$\\alpha_m = -\\frac{1}{2}\\frac{d\\beta_m(z)}{dz}$$\n",
    "We have:\n",
    "$$\\beta_m(z) = \\beta_{m0} - 2\\alpha_m z$$\n",
    "where $\\beta_{m0} = \\beta_m(0)$. (Similarly, we use $n_0 = n(0)$, $\\omega_{p0} = \\omega_p(0)$)\n",
    "\n",
    "We know $\\beta_m(z) = \\sqrt{2\\gamma} \\dfrac{c}{\\omega_p(z)}$, and we assume the beam is not accelerating in the plasma ramp. So:\n",
    "$$\\frac{n(z)}{n_0} = \\frac{\\omega_p(z)^2}{\\omega_{p0}^2} = \\frac{\\beta_{m0}^2}{\\beta_m(z)^2} = \\frac{1}{\\left(1 - \\dfrac{2\\alpha_m z}{\\beta_{m0}}\\right)^2}$$\n",
    "\n",
    "Notice that for a upramp, $\\alpha_m > 0$. The exit of the upramp (also the entrance of the uniform acceleration region) is at $z = 0$, so we have $z < 0$ in the upramp.\n",
    "\n",
    "To satisfy the adiabatic condition, we choose $\\alpha_m = 0.1$. \n",
    "\n",
    "We use $c/\\omega_{p0}$ (the skin depth for the uniform acceleration region) to normalize all the length. So $\\beta_{m0} = \\sqrt{2\\gamma}$\n",
    "\n",
    "We have:\n",
    "\n",
    "$$\\frac{n(z)}{n_0} = \\frac{1}{\\left(1 - \\dfrac{2\\alpha_m z}{\\sqrt{2\\gamma}}\\right)^2}$$\n",
    "\n",
    "If we assume at the entrance of the upramp, $n_{entrance} = n_0 / 100$, we can determine that the entrance is at: $z_{entrance}$ Notice that this length will be longer if we assume the beam has a larger $\\gamma$)\n",
    "\n",
    "The plasma density upramp looks like the following:"
   ]
  },
  {
   "cell_type": "code",
   "execution_count": null,
   "id": "82cf0977-48e2-4e6c-92ea-f3e3f2eb3ecc",
   "metadata": {},
   "outputs": [],
   "source": [
    "import numpy as np\n",
    "import matplotlib.pyplot as plt\n",
    "\n",
    "### Set the parameters for the ramp\n",
    "alpha_m = 0.1\n",
    "gamma = 48786\n",
    "n_entrance_over_n0 = 0.01\n",
    "plateau_length = 20000"
   ]
  },
  {
   "cell_type": "code",
   "execution_count": null,
   "id": "8506b6eb-9d0e-4735-b790-1dbab89a5c85",
   "metadata": {},
   "outputs": [],
   "source": [
    "### Generate the ramp and plot\n",
    "beta_m0 = np.sqrt(2 * gamma)\n",
    "z_entrance = (1 - np.sqrt(1 / n_entrance_over_n0)) * beta_m0 / 2 / alpha_m\n",
    "print('The plasma entrance is at z =',z_entrance)\n",
    "z = np.linspace(z_entrance,0,int(-z_entrance / 10)+1)\n",
    "n = 1 / (1 - 2 * alpha_m * z / beta_m0) ** 2\n",
    "\n",
    "plt.plot(z,n)\n",
    "plt.xlabel('$z$')\n",
    "plt.ylabel('$n_p(z) / n_0$')\n",
    "plt.title(r'$\\frac{n(z)}{n_0} = \\frac{1}{\\left(1 - \\dfrac{2\\alpha_m z}{\\beta_{m0}}\\right)^2}$')\n",
    "plt.rcParams.update({'font.size': 16})\n",
    "plt.show()"
   ]
  },
  {
   "cell_type": "code",
   "execution_count": null,
   "id": "8a496bc3-590e-4d4d-912e-f75a5487b836",
   "metadata": {},
   "outputs": [],
   "source": [
    "### Shift the entrance to z = 0, then append a uniform acceleration region\n",
    "z_shift = z - z[0]\n",
    "if plateau_length > 0:\n",
    "    z_shift = np.append(z_shift,z_shift[-1]+plateau_length)\n",
    "    n_shift = np.append(n,1.0)\n",
    "plt.plot(z_shift,n_shift)\n",
    "plt.show()"
   ]
  },
  {
   "cell_type": "markdown",
   "id": "3cc5d78b-509c-42cd-9d30-443bfab88ba1",
   "metadata": {},
   "source": [
    "# Make an input file"
   ]
  },
  {
   "cell_type": "code",
   "execution_count": null,
   "id": "301c2411-0d50-488b-94be-0e53346a1c0f",
   "metadata": {},
   "outputs": [],
   "source": [
    "from helper import *\n",
    "clean_up()\n",
    "set_ndump(ndump = 20)\n",
    "set_plasma_density(z_shift,n_shift,name = 'species',idx = 0,path = '..')\n",
    "\n",
    "epsilon_n = normalize(0.1,'um',10**17)\n",
    "set_matched_beam(idx = 0,epsilon_n = epsilon_n,name = 'species',i = 0,uniform = False,path = '..')\n",
    "set_one_item(type_name = 'beam',idx = 0,parameter_name = 'alpha',value = [alpha_m,alpha_m],path = '..')"
   ]
  },
  {
   "cell_type": "code",
   "execution_count": null,
   "id": "c29602f2-5d09-4eb0-bd5f-bb1a22726d41",
   "metadata": {},
   "outputs": [],
   "source": [
    "_,_ = get_density_profile(name = 'species', idx = 0, plot = True, save=False, path = '..')"
   ]
  }
 ],
 "metadata": {
  "kernelspec": {
   "display_name": "Python 3",
   "language": "python",
   "name": "python3"
  },
  "language_info": {
   "codemirror_mode": {
    "name": "ipython",
    "version": 3
   },
   "file_extension": ".py",
   "mimetype": "text/x-python",
   "name": "python",
   "nbconvert_exporter": "python",
   "pygments_lexer": "ipython3",
   "version": "3.7.4"
  }
 },
 "nbformat": 4,
 "nbformat_minor": 5
}

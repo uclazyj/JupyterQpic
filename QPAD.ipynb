{
 "cells": [
  {
   "cell_type": "markdown",
   "metadata": {},
   "source": [
    "# QPAD result visualization"
   ]
  },
  {
   "cell_type": "code",
   "execution_count": 1,
   "metadata": {},
   "outputs": [],
   "source": [
    "import json\n",
    "from collections import OrderedDict\n",
    "from importlib import reload\n",
    "import helper\n",
    "helper = reload(helper)\n",
    "from helper import *\n",
    "import numpy as np\n",
    "import matplotlib.pyplot as plt\n",
    "import pyVisQP\n",
    "import os\n",
    "dirname = '..'"
   ]
  },
  {
   "cell_type": "markdown",
   "metadata": {},
   "source": [
    "## Raw beam data analysis"
   ]
  },
  {
   "cell_type": "code",
   "execution_count": 56,
   "metadata": {},
   "outputs": [],
   "source": [
    "# Only the particles within the range of:\n",
    "# [zVisualizeCenter - half_thickness, zVisualizeCenter + half_thickness]\n",
    "# will be considered as a part of the beam and participate in the analysis.\n",
    "# If the beam profile is not described by sigma_z (longitudinal piecewise linear),\n",
    "# then all the particles in the beam will be analyzed.\n",
    "half_thickness = 5\n",
    "zVisualizeCenter = 0\n",
    "\n",
    "# The following is the default setting to analyze raw beam data for all output files\n",
    "QPAD = True\n",
    "ndump = get_one_item(['beam',0,'diag',-1,'ndump'])\n",
    "time = get_one_item(['simulation','time'])\n",
    "dt = get_one_item(['simulation','dt'])\n",
    "nbeams = get_one_item(['simulation','nbeams'])\n",
    "first_file_number = 0\n",
    "last_file_number = int(time // ( dt * ndump) * ndump )\n",
    "beam_number = nbeams # Usually, the witness beam is the last beam in the input file"
   ]
  },
  {
   "cell_type": "code",
   "execution_count": null,
   "metadata": {},
   "outputs": [],
   "source": [
    "pyVisQP = reload(pyVisQP)\n",
    "# You cannot have any comment in qpinput.json !!!\n",
    "parameters = pyVisQP.analyze_raw_beam_data(first_file_number = first_file_number,\\\n",
    "                                           last_file_number = last_file_number,\\\n",
    "                                           ndump = ndump,beam_number = beam_number, \\\n",
    "                                           zVisualizeCenter = zVisualizeCenter, \\\n",
    "                                           half_thickness = half_thickness, \\\n",
    "                                           QPAD = QPAD)\n",
    "pyVisQP.save_beam_analysis(beam_number,[zVisualizeCenter],[parameters],half_thickness)"
   ]
  },
  {
   "cell_type": "markdown",
   "metadata": {},
   "source": [
    "## Visualize the raw beam data"
   ]
  },
  {
   "cell_type": "code",
   "execution_count": 4,
   "metadata": {},
   "outputs": [],
   "source": [
    "filename = 'beam' + str(beam_number) + '_' + str([zVisualizeCenter]).replace(\" \",\"\") + '_' + str(half_thickness)\n",
    "with open(filename) as f:\n",
    "    inputDeck = json.load(f,object_pairs_hook=OrderedDict)\n",
    "parameters = inputDeck[str(zVisualizeCenter)]"
   ]
  },
  {
   "cell_type": "markdown",
   "metadata": {},
   "source": [
    "## Plasma ramp data"
   ]
  },
  {
   "cell_type": "code",
   "execution_count": null,
   "metadata": {},
   "outputs": [],
   "source": [
    "s, fs = get_density_profile(name = 'species', idx=0, plot=True, save=True, path = '..')\n",
    "matched_parameters = get_matched_beam_parameters(i = 0,name = 'species',idx = 0,path = '..')\n",
    "delta_s = parameters['s'][1] - parameters['s'][0]\n",
    "delta_s_matched = matched_parameters['s'][1] - matched_parameters['s'][0]\n",
    "alpha_i = get_one_item(['beam',0,'alpha',0])\n",
    "beta_i = get_one_item(['beam',0,'beta',0])\n",
    "s = np.array(parameters['s'])\n",
    "alpha_vacuum,beta_vacuum = get_Twiss_in_vacuum(alpha_i,beta_i,s)"
   ]
  },
  {
   "cell_type": "code",
   "execution_count": null,
   "metadata": {},
   "outputs": [],
   "source": [
    "### Temp\n",
    "\n",
    "s, fs = get_density_profile(name = 'species', idx=0, plot=False, save=True, path = '..')\n",
    "plt.plot(s,fs)\n",
    "plt.plot([2120] * 100, np.linspace(0,1,100),'--',label = 's = 2120')\n",
    "plt.xlabel('z')\n",
    "plt.ylabel(r'$n(z)/n_0$')\n",
    "plt.title('Plasma density profile')\n",
    "plt.legend()\n",
    "plt.rcParams.update({'font.size': 16})\n",
    "plt.show()"
   ]
  },
  {
   "cell_type": "markdown",
   "metadata": {},
   "source": [
    "# $$\\epsilon_n$$"
   ]
  },
  {
   "cell_type": "code",
   "execution_count": null,
   "metadata": {},
   "outputs": [],
   "source": [
    "pyVisQP = reload(pyVisQP)\n",
    "\n",
    "# fig, ax = plt.subplots()\n",
    "plt.plot(parameters['s'], parameters['epsilon_n_x']/np.float64(parameters['epsilon_n_x'][0]),label='x')\n",
    "plt.plot(parameters['s'], parameters['epsilon_n_y']/np.float64(parameters['epsilon_n_y'][0]),label='y')\n",
    "plt.xlabel('$z\\;(c/\\omega_p)$')\n",
    "plt.ylabel('$\\epsilon_n / \\epsilon_{ni}  \\;(c/\\omega_p)$')\n",
    "\n",
    "plt.legend(loc='lower right')\n",
    "plt.rcParams.update({'font.size': 16})\n",
    "plt.savefig('beam'+str(beam_number)+'_emitn'+'.png')\n",
    "plt.show()"
   ]
  },
  {
   "cell_type": "markdown",
   "metadata": {},
   "source": [
    "# $$\\beta$$"
   ]
  },
  {
   "cell_type": "code",
   "execution_count": null,
   "metadata": {},
   "outputs": [],
   "source": [
    "plot_beta_m = True\n",
    "plot_beta_vacuum = True\n",
    "\n",
    "s_cutoff = parameters['s'][-1] # only plot the vacuum evolution until s_cutoff\n",
    "idx = int(s_cutoff / delta_s)\n",
    "\n",
    "plt.plot(parameters['s'][:idx+1],parameters['beta_x'][:idx+1],label=r'$\\beta_x$')\n",
    "plt.plot(parameters['s'][:idx+1],parameters['beta_y'][:idx+1],label=r'$\\beta_y$')\n",
    "if plot_beta_m:\n",
    "    s1 = 1000\n",
    "    s2 = 20000\n",
    "    idx1 = int(s1 / delta_s_matched)\n",
    "    idx2 = int(s2 / delta_s_matched)\n",
    "    s_plot = matched_parameters['s'][idx1:idx2+1]\n",
    "    beta_m_plot = matched_parameters['beta_m'][idx1:idx2+1]\n",
    "    plt.plot(s_plot,beta_m_plot,'--',label=r'$\\beta_m$')\n",
    "plt.xlabel('$z\\;(c/\\omega_p)$')\n",
    "plt.ylabel(r'$\\beta \\;(c/\\omega_p)$')\n",
    "\n",
    "if plot_beta_vacuum:\n",
    "    s_cutoff = 4240 # only plot the vacuum evolution until s_cutoff\n",
    "    idx = int(s_cutoff / delta_s)\n",
    "    beta_vacuum_plot = beta_vacuum[:idx+1]\n",
    "    s_plot = s[:idx+1]\n",
    "    plt.plot(s_plot, beta_vacuum_plot,'--',label='vacuum')\n",
    "plt.legend(loc='best')\n",
    "plt.rcParams.update({'font.size': 16})\n",
    "temp = '_with_beta_m' if plot_beta_m else ''\n",
    "plt.savefig('beam'+str(beam_number)+'_beta'+temp+'.png')\n",
    "plt.show()"
   ]
  },
  {
   "cell_type": "markdown",
   "metadata": {},
   "source": [
    "# $$\\sigma$$"
   ]
  },
  {
   "cell_type": "code",
   "execution_count": null,
   "metadata": {},
   "outputs": [],
   "source": [
    "plot_sigma_m = False\n",
    "plt.plot(parameters['s'], parameters['sigma_x'],label=r'$\\sigma_x$')\n",
    "plt.plot(parameters['s'], parameters['sigma_y'],label=r'$\\sigma_y$')\n",
    "if plot_sigma_m:\n",
    "    s1 = 15000\n",
    "    s2 = 60000\n",
    "    idx1 = int(s1 / delta_s_matched)\n",
    "    idx2 = int(s2 / delta_s_matched)\n",
    "    s_plot = matched_parameters['s'][idx1:idx2+1]\n",
    "    sigma_m_plot = matched_parameters['sigma_m'][idx1:idx2+1]\n",
    "    plt.plot(s_plot,sigma_m_plot,'--',label=r'$\\sigma_m$')\n",
    "plt.xlabel('$z\\;(c/\\omega_p)$')\n",
    "plt.ylabel(r'$\\sigma \\;(c/\\omega_p)$')\n",
    "\n",
    "plt.legend(loc='best')\n",
    "plt.rcParams.update({'font.size': 16})\n",
    "temp = '_with_sigma_m' if plot_sigma_m else ''\n",
    "plt.savefig('beam'+str(beam_number)+'_sigma'+temp+'.png')\n",
    "plt.show()"
   ]
  },
  {
   "cell_type": "markdown",
   "metadata": {},
   "source": [
    "# $$\\alpha$$"
   ]
  },
  {
   "cell_type": "code",
   "execution_count": null,
   "metadata": {},
   "outputs": [],
   "source": [
    "plot_alpha_m = False\n",
    "plot_alpha_vacuum = False\n",
    "\n",
    "plt.plot(parameters['s'], parameters['alpha_x'],label=r'$\\alpha_x$')\n",
    "plt.plot(parameters['s'], parameters['alpha_y'],label=r'$\\alpha_y$')\n",
    "if plot_alpha_m:\n",
    "    s1 = 20000\n",
    "    s2 = 60000\n",
    "    idx1 = int(s1 / delta_s_matched)\n",
    "    idx2 = int(s2 / delta_s_matched)\n",
    "    s_plot = matched_parameters['s'][idx1:idx2+1]\n",
    "    alpha_m_plot = matched_parameters['alpha_m'][idx1:idx2+1]\n",
    "    plt.plot(s_plot,alpha_m_plot,'--',label=r'$\\alpha_m$')\n",
    "plt.xlabel('$z\\;(c/\\omega_p)$')\n",
    "plt.ylabel(r'$\\alpha$')\n",
    "\n",
    "\n",
    "if plot_alpha_vacuum:\n",
    "    s_cutoff = 10000 # only plot the vacuum evolution until s_cutoff\n",
    "    idx = int(s_cutoff / delta_s)\n",
    "    alpha_vacuum_plot = alpha_vacuum[:idx+1]\n",
    "    s_plot = s[:idx+1]\n",
    "    plt.plot(s_plot, alpha_vacuum_plot,'--',label='vacuum')\n",
    "\n",
    "plt.legend(loc='best')\n",
    "plt.rcParams.update({'font.size': 16})\n",
    "temp = '_with_alpha_m' if plot_alpha_m else ''\n",
    "plt.savefig('beam'+str(beam_number)+'_alpha'+temp+'.png')\n",
    "plt.show()"
   ]
  },
  {
   "cell_type": "markdown",
   "metadata": {},
   "source": [
    "# energy: $\\gamma$"
   ]
  },
  {
   "cell_type": "code",
   "execution_count": null,
   "metadata": {},
   "outputs": [],
   "source": [
    "plt.plot(parameters['s'], parameters['energy'])\n",
    "plt.xlabel('$z$')\n",
    "plt.ylabel(r'$\\gamma$')\n",
    "\n",
    "plt.rcParams.update({'font.size': 16})\n",
    "plt.savefig('beam'+str(beam_number)+'_energy'.png')\n",
    "plt.show()"
   ]
  },
  {
   "cell_type": "markdown",
   "metadata": {},
   "source": [
    "# energy spread: $\\delta_\\gamma / \\gamma$"
   ]
  },
  {
   "cell_type": "code",
   "execution_count": null,
   "metadata": {},
   "outputs": [],
   "source": [
    "plt.plot(parameters['s'], parameters['energy_spread'])\n",
    "plt.xlabel('$z$')\n",
    "plt.ylabel(r'$\\delta_\\gamma / \\gamma$')\n",
    "\n",
    "plt.rcParams.update({'font.size': 16})\n",
    "plt.savefig('beam'+str(beam_number)+'_energyspread_'+str(half_thickness)+'sigmaz'+'.png')\n",
    "plt.show()"
   ]
  },
  {
   "cell_type": "markdown",
   "metadata": {},
   "source": [
    "# $$d\\gamma/dz$$"
   ]
  },
  {
   "cell_type": "code",
   "execution_count": null,
   "metadata": {},
   "outputs": [],
   "source": [
    "# dgamma_dz_simulation = pyVisQP.NDiff1D(parameters['s'],parameters['energy'])\n",
    "\n",
    "# # Check Mike litos's theory\n",
    "# G0 = 1.18 # This parameter can be changed\n",
    "# n_sqrt = np.sqrt(n)\n",
    "# dgamma_dz_mike = G0 * n_sqrt * (2 * n_sqrt - 1)\n",
    "# plt.plot(parameters['s'],dgamma_dz_simulation,label='QPAD')\n",
    "# plt.plot(z,dgamma_dz_mike,label=r'$G_0\\sqrt{\\frac{n_p(z)}{n_{p0}}}(2\\sqrt{\\frac{n_p(z)}{n_{p0}}}-1)$')\n",
    "# plt.xlabel('z')\n",
    "# plt.ylabel(r'$\\frac{d\\gamma}{dz}$')\n",
    "# plt.legend(loc='best')\n",
    "# plt.rcParams.update({'font.size': 16})\n",
    "# plt.savefig('beam'+str(beam_number)+'_dgamma_dz.png')\n",
    "# plt.show()"
   ]
  },
  {
   "cell_type": "markdown",
   "metadata": {},
   "source": [
    "### Plot the emittance evolution for multiple slices in witness beam"
   ]
  },
  {
   "cell_type": "code",
   "execution_count": 2,
   "metadata": {},
   "outputs": [],
   "source": [
    "xi_s = [-1.0,-0.5,0.0,0.5,1.0]\n",
    "half_thickness_slice = 0.1"
   ]
  },
  {
   "cell_type": "code",
   "execution_count": null,
   "metadata": {},
   "outputs": [],
   "source": [
    "parameters_xi_s = [] \n",
    "\n",
    "for xi in xi_s:\n",
    "    parameters_xi = pyVisQP.analyze_raw_beam_data(first_file_number = first_file_number,\\\n",
    "                                                  last_file_number = last_file_number,\\\n",
    "                                                  ndump = ndump,beam_number = beam_number, \\\n",
    "                                                  zVisualizeCenter = xi, half_thickness = half_thickness_slice)\n",
    "    parameters_xi_s.append(parameters_xi)\n",
    "    \n",
    "pyVisQP.save_beam_analysis(beam_number,xi_s,parameters_xi_s,half_thickness_slice)"
   ]
  },
  {
   "cell_type": "markdown",
   "metadata": {},
   "source": [
    "## Visualize the raw beam data"
   ]
  },
  {
   "cell_type": "code",
   "execution_count": null,
   "metadata": {},
   "outputs": [],
   "source": [
    "filename = 'beam' + str(beam_number) + '_' + str(xi_s).replace(\" \",\"\") + '_' + str(half_thickness)\n",
    "with open(filename) as f:\n",
    "    inputDeck = json.load(f,object_pairs_hook=OrderedDict)\n",
    "parameters_xi_s = {}\n",
    "for i in range(len(xi_s)):\n",
    "    parameters_xi_s[i] = inputDeck[str(xi_s[i])]"
   ]
  },
  {
   "cell_type": "markdown",
   "metadata": {},
   "source": [
    "# $$\\epsilon_n$$"
   ]
  },
  {
   "cell_type": "code",
   "execution_count": null,
   "metadata": {},
   "outputs": [],
   "source": [
    "pyVisQP = reload(pyVisQP)\n",
    "import matplotlib.pyplot as plt\n",
    "fig, ax = plt.subplots()\n",
    "for i in range(len(xi_s)):\n",
    "    plt.plot(parameters_xi_s[i]['s'], parameters_xi_s[i]['epsilon_n_x']/parameters_xi_s[i]['epsilon_n_x'][0],label='$\\\\xi =$' + str(xi_s[i]) )\n",
    "plt.plot(parameters['s'], parameters['epsilon_n_x']/np.float64(parameters['epsilon_n_x'][0]),label='Projected')\n",
    "plt.xlabel('$z\\;(c/\\omega_p)$')\n",
    "plt.ylabel('$\\epsilon_n / \\epsilon_{ni}$')\n",
    "plt.legend(loc='best')\n",
    "plt.rcParams.update({'font.size': 10})\n",
    "fig.savefig('beam'+str(beam_number)+'_emitn_slices.png', format='png')\n",
    "plt.show()"
   ]
  },
  {
   "cell_type": "code",
   "execution_count": null,
   "metadata": {},
   "outputs": [],
   "source": [
    "pyVisQP = reload(pyVisQP)\n",
    "import matplotlib.pyplot as plt\n",
    "fig, ax = plt.subplots()\n",
    "for i in range(len(xi_s)):\n",
    "    plt.plot(parameters_xi_s[i]['s'], parameters_xi_s[i]['sigma_x'],label='xi =' + str(xi_s[i]) )\n",
    "# plt.plot(matched_parameters['s'],matched_parameters['sigma_m'],'--',label=r'$\\sigma_m$')\n",
    "plt.xlabel('$z\\;(c/\\omega_p)$')\n",
    "plt.ylabel('$\\sigma  \\;(c/\\omega_p)$')\n",
    "plt.legend(loc='best')\n",
    "plt.rcParams.update({'font.size': 12})\n",
    "fig.savefig('beam'+str(beam_number)+'_sigma_slices.png', format='png')\n",
    "plt.show()"
   ]
  },
  {
   "cell_type": "markdown",
   "metadata": {},
   "source": [
    "## Beam's phase space plot"
   ]
  },
  {
   "cell_type": "code",
   "execution_count": 3,
   "metadata": {},
   "outputs": [],
   "source": [
    "# The following is the default setting to analyze raw beam data for all output files\n",
    "ndump = get_one_item(['beam',0,'diag',-1,'ndump'])\n",
    "time = get_one_item(['simulation','time'])\n",
    "dt = get_one_item(['simulation','dt'])\n",
    "nbeams = get_one_item(['simulation','nbeams'])\n",
    "first_file_number = 360\n",
    "last_file_number = 400 # int(time // ( dt * ndump) * ndump )\n",
    "beam_number = nbeams # Usually, the witness beam is the last beam in the input file\n",
    "\n",
    "timeSteps = range(first_file_number,last_file_number+ndump,ndump)"
   ]
  },
  {
   "cell_type": "code",
   "execution_count": 4,
   "metadata": {},
   "outputs": [],
   "source": [
    "xi_s = [-1.0,0.0,1.0] # choose the longitudinal positions for the beam slices\n",
    "half_thickness_slice = 0.1 # choose 1/2 of the slice's thickness\n",
    "\n",
    "xlim = (-0.20,0.20)\n",
    "ylim = (-2.0,2.0)\n",
    "\n",
    "dir_save = 'Phase_space'"
   ]
  },
  {
   "cell_type": "code",
   "execution_count": null,
   "metadata": {},
   "outputs": [],
   "source": [
    "pyVisQP = reload(pyVisQP)\n",
    "pyVisQP.plot_phase_space(beam_number,xi_s,half_thickness_slice,timeSteps,xlim, ylim, dir_save)"
   ]
  },
  {
   "cell_type": "markdown",
   "metadata": {},
   "source": [
    "## 1. Plasma and beam density\n",
    "### angle = 0 (xz plane)"
   ]
  },
  {
   "cell_type": "code",
   "execution_count": null,
   "metadata": {},
   "outputs": [],
   "source": [
    "angle = 0\n",
    "\n",
    "# Plot the charge density of plasma and beam\n",
    "filename1 = dirname +'/Species1/Charge/Merged_angle_'+ str(angle) +'/charge_'+str(ndump).zfill(8)+'.h5'\n",
    "filename2 = dirname +'/Beam1/Charge/Merged_angle_'+ str(angle) +'/charge_'+str(ndump).zfill(8)+'.h5'\n",
    "filename3 = dirname +'/Beam2/Charge/Merged_angle_'+ str(angle) +'/charge_'+str(ndump).zfill(8)+'.h5'\n",
    "filenameList = [filename1,filename2,filename3]\n",
    "scaleList = [1,1,1]\n",
    "pyVisQP.makeplot(filenameList,scaleList,LineoutDir = None)"
   ]
  },
  {
   "cell_type": "markdown",
   "metadata": {},
   "source": [
    "### angle = 90 (yz plane)"
   ]
  },
  {
   "cell_type": "code",
   "execution_count": null,
   "metadata": {},
   "outputs": [],
   "source": [
    "# Plot the y component of the focusing force : Fy with transverse and longitudinal lineout\n",
    "filename1 = dirname + '/Fields/Er/Merged_angle_'+ str(angle) +'/er_'+str(ndump).zfill(8)+'.h5'\n",
    "filename2 = dirname + '/Fields/Bphi/Merged_angle_'+ str(angle) +'/bphi_'+str(ndump).zfill(8)+'.h5'\n",
    "filenameList = [filename1,filename2]\n",
    "scaleList = [-1,1]\n",
    "pyVisQP.makeplot(filenameList,scaleList,LineoutDir = 'transverse',specify_title = '$F_x \\; [mc\\omega_p]$',Show_theory = 'focus')\n",
    "pyVisQP.makeplot(filenameList,scaleList,LineoutDir = 'longitudinal',specify_title = '$F_x \\; [mc\\omega_p]$',Show_theory = 'focus')"
   ]
  },
  {
   "cell_type": "markdown",
   "metadata": {},
   "source": [
    "## 2. Accelerating field: $E_z$\n",
    "### angle = 0 (xz plane)"
   ]
  },
  {
   "cell_type": "code",
   "execution_count": null,
   "metadata": {},
   "outputs": [],
   "source": [
    "angle = 0\n",
    "# Plot the accelerating field with transverse and longitudinal lineout\n",
    "filename = dirname +'/Fields/Ez/Merged_angle_'+ str(angle) +'/ez_'+str(ndump).zfill(8)+'.h5'\n",
    "filenameList = [filename]\n",
    "pyVisQP.makeplot(filenameList,LineoutDir = 'longitudinal',specify_title = '$E_z \\; [mc\\omega_p / e]$')\n",
    "pyVisQP.makeplot(filenameList,LineoutDir = 'transverse',specify_title = '$E_z \\; [mc\\omega_p / e]$')"
   ]
  },
  {
   "cell_type": "markdown",
   "metadata": {},
   "source": [
    "### angle = 90 (yz plane)"
   ]
  },
  {
   "cell_type": "code",
   "execution_count": null,
   "metadata": {},
   "outputs": [],
   "source": [
    "angle = 90\n",
    "# Plot the accelerating field with transverse and longitudinal lineout\n",
    "filename = dirname +'/Fields/Ez/Merged_angle_'+ str(angle) +'/ez_'+str(ndump).zfill(8)+'.h5'\n",
    "filenameList = [filename]\n",
    "pyVisQP.makeplot(filenameList,LineoutDir = 'longitudinal',specify_title = '$E_z \\; [mc\\omega_p / e]$')\n",
    "pyVisQP.makeplot(filenameList,LineoutDir = 'transverse',specify_title = '$E_z \\; [mc\\omega_p / e]$')"
   ]
  },
  {
   "cell_type": "markdown",
   "metadata": {},
   "source": [
    "## 3. Focusing force\n",
    "### angle = 0 (xz plane)"
   ]
  },
  {
   "cell_type": "code",
   "execution_count": null,
   "metadata": {},
   "outputs": [],
   "source": [
    "angle = 0"
   ]
  },
  {
   "cell_type": "code",
   "execution_count": null,
   "metadata": {},
   "outputs": [],
   "source": [
    "# Plot the x component of the focusing force : Fx with transverse and longitudinal lineout\n",
    "filename1 = dirname + '/Fields/Er/Merged_angle_'+ str(angle) +'/er_'+str(ndump).zfill(8)+'.h5'\n",
    "filename2 = dirname + '/Fields/Bphi/Merged_angle_'+ str(angle) +'/bphi_'+str(ndump).zfill(8)+'.h5'\n",
    "filenameList = [filename1,filename2]\n",
    "scaleList = [-1,1]\n",
    "pyVisQP.makeplot(filenameList,scaleList,LineoutDir = 'transverse',specify_title = '$F_x \\; [mc\\omega_p]$',Show_theory = 'focus')\n",
    "pyVisQP.makeplot(filenameList,scaleList,LineoutDir = 'longitudinal',specify_title = '$F_x \\; [mc\\omega_p]$',Show_theory = 'focus')"
   ]
  },
  {
   "cell_type": "markdown",
   "metadata": {},
   "source": [
    "### angle = 90 (yz plane)"
   ]
  },
  {
   "cell_type": "code",
   "execution_count": null,
   "metadata": {},
   "outputs": [],
   "source": [
    "angle = 90"
   ]
  },
  {
   "cell_type": "code",
   "execution_count": null,
   "metadata": {},
   "outputs": [],
   "source": [
    "# Plot the y component of the focusing force : Fy with transverse and longitudinal lineout\n",
    "filename1 = dirname + '/Fields/Er/Merged_angle_'+ str(angle) +'/er_'+str(ndump).zfill(8)+'.h5'\n",
    "filename2 = dirname + '/Fields/Bphi/Merged_angle_'+ str(angle) +'/bphi_'+str(ndump).zfill(8)+'.h5'\n",
    "filenameList = [filename1,filename2]\n",
    "scaleList = [-1,1]\n",
    "pyVisQP.makeplot(filenameList,scaleList,LineoutDir = 'transverse',specify_title = '$F_y \\; [mc\\omega_p]$',Show_theory = 'focus')\n",
    "pyVisQP.makeplot(filenameList,scaleList,LineoutDir = 'longitudinal',specify_title = '$F_y \\; [mc\\omega_p]$',Show_theory = 'focus')"
   ]
  }
 ],
 "metadata": {
  "kernelspec": {
   "display_name": "Python 3",
   "language": "python",
   "name": "python3"
  },
  "language_info": {
   "codemirror_mode": {
    "name": "ipython",
    "version": 3
   },
   "file_extension": ".py",
   "mimetype": "text/x-python",
   "name": "python",
   "nbconvert_exporter": "python",
   "pygments_lexer": "ipython3",
   "version": "3.7.4"
  }
 },
 "nbformat": 4,
 "nbformat_minor": 4
}

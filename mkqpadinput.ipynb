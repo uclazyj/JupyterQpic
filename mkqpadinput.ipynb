{
 "cells": [
  {
   "cell_type": "code",
   "execution_count": 15,
   "id": "4e0d7911-8676-428f-8757-8c26e9b861d4",
   "metadata": {},
   "outputs": [],
   "source": [
    "### Users can set input parameters in this file. \n",
    "### This file will call a bunch of functions in helper.py (helper.py must be in the same folder as this file) \n",
    "### to calculate and set the parameters in qpinput.json conveniently\n",
    "\n",
    "### Before using this script, you should set n0 (plasma density) and gamma,sigma_z for each beam correctly in qpinput.json\n",
    "import numpy as np\n",
    "import matplotlib.pyplot as plt\n",
    "from importlib import reload\n",
    "import helper\n",
    "from helper import *\n",
    "helper = reload(helper)\n",
    "\n",
    "### Get plasma density from qpinput.json\n",
    "path = '..' # relative path to qpinput.json\n",
    "n0 = get_n0(path)\n",
    "\n",
    "######## SET PARAMETERS SECTION ##########\n",
    "N_drive = 3*10**10 # number of electrons \n",
    "N_witness = 10**10\n",
    "epsilon_n_drive = normalize(1,'mm',n0)\n",
    "epsilon_n_witness = normalize(0.1,'um',n0)\n",
    "sigma_z_drive = normalize(30,'um',n0)\n",
    "sigma_z_witness = normalize(10,'um',n0)\n",
    "ndump = 1\n",
    "\n",
    "driver_witness_distance = normalize(115,'um',n0)\n",
    "######## END SET PARAMETERS SECTION ########\n",
    "\n",
    "### Set parameters for drive beam ###\n",
    "idx = 0\n",
    "set_matched_beam(idx = idx,epsilon_n = epsilon_n_drive,uniform = True,name = 'species',i = 0,path = path)\n",
    "set_one_item(sigma_z_drive,'beam',idx,'gauss_sigma',2,path = '..')\n",
    "set_triGaussian_beam_peak_density(idx,N_drive,path)\n",
    "set_one_item(-driver_witness_distance,'beam',idx,'gauss_center',2,path = '..')\n",
    "set_beam_range(idx,num_sigma = 5,path = '..')\n",
    "### Set parameters for witness beam ###\n",
    "idx = 1\n",
    "set_matched_beam(idx = idx,epsilon_n = epsilon_n_witness,uniform = True,name = 'species',i = 0,path = path)\n",
    "set_one_item(sigma_z_witness,'beam',idx,'gauss_sigma',2,path = '..')\n",
    "set_triGaussian_beam_peak_density(idx,N_witness,path)\n",
    "set_beam_range(idx,num_sigma = 5,path = '..')\n",
    "\n",
    "### set ndump ###\n",
    "set_ndump(ndump,path)"
   ]
  },
  {
   "cell_type": "code",
   "execution_count": 14,
   "id": "c93384f8-cb88-4c0d-be00-2472c71a825c",
   "metadata": {},
   "outputs": [
    {
     "data": {
      "text/plain": [
       "18.59115918613202"
      ]
     },
     "execution_count": 14,
     "metadata": {},
     "output_type": "execute_result"
    }
   ],
   "source": [
    "normalize(1024 * 305.66/1000,'um',n0)"
   ]
  },
  {
   "cell_type": "code",
   "execution_count": null,
   "id": "e25e8e3b-e666-49b7-ae29-1bb6951699f2",
   "metadata": {},
   "outputs": [],
   "source": []
  }
 ],
 "metadata": {
  "kernelspec": {
   "display_name": "Python 3",
   "language": "python",
   "name": "python3"
  },
  "language_info": {
   "codemirror_mode": {
    "name": "ipython",
    "version": 3
   },
   "file_extension": ".py",
   "mimetype": "text/x-python",
   "name": "python",
   "nbconvert_exporter": "python",
   "pygments_lexer": "ipython3",
   "version": "3.7.4"
  }
 },
 "nbformat": 4,
 "nbformat_minor": 5
}

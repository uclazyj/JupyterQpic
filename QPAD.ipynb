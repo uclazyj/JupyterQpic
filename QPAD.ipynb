{
 "cells": [
  {
   "cell_type": "markdown",
   "metadata": {},
   "source": [
    "# QPAD result visualization"
   ]
  },
  {
   "cell_type": "code",
   "execution_count": 1,
   "metadata": {},
   "outputs": [],
   "source": [
    "from importlib import reload\n",
    "import pyVisQP\n",
    "ndump = 10\n",
    "dirname = '..'"
   ]
  },
  {
   "cell_type": "markdown",
   "metadata": {},
   "source": [
    "## 1. Plasma and beam density\n",
    "### angle = 0 (xz plane)"
   ]
  },
  {
   "cell_type": "code",
   "execution_count": 5,
   "metadata": {},
   "outputs": [
    {
     "data": {
      "application/vnd.jupyter.widget-view+json": {
       "model_id": "88f060ef142841038455f82c5cb0156b",
       "version_major": 2,
       "version_minor": 0
      },
      "text/plain": [
       "interactive(children=(FloatRangeSlider(value=(-5.0, 0.0), continuous_update=False, description='Colorbar:', ma…"
      ]
     },
     "metadata": {},
     "output_type": "display_data"
    }
   ],
   "source": [
    "angle = 0\n",
    "\n",
    "# Plot the charge density of plasma and beam\n",
    "filename1 = dirname +'/Species1/Charge/Merged_angle_'+ str(angle) +'/charge_'+str(ndump).zfill(8)+'.h5'\n",
    "filename2 = dirname +'/Beam1/Charge/Merged_angle_'+ str(angle) +'/charge_'+str(ndump).zfill(8)+'.h5'\n",
    "filename3 = dirname +'/Beam2/Charge/Merged_angle_'+ str(angle) +'/charge_'+str(ndump).zfill(8)+'.h5'\n",
    "filenameList = [filename1,filename2,filename3]\n",
    "scaleList = [1,1,1]\n",
    "pyVisQP.makeplot(filenameList,scaleList,LineoutDir = None)\n"
   ]
  },
  {
   "cell_type": "markdown",
   "metadata": {},
   "source": [
    "### angle = 90 (yz plane)"
   ]
  },
  {
   "cell_type": "code",
   "execution_count": 3,
   "metadata": {},
   "outputs": [
    {
     "data": {
      "application/vnd.jupyter.widget-view+json": {
       "model_id": "92f6b3eeafad404b80cfecc814a0f5ae",
       "version_major": 2,
       "version_minor": 0
      },
      "text/plain": [
       "interactive(children=(FloatRangeSlider(value=(-5.0, 0.0), continuous_update=False, description='Colorbar:', ma…"
      ]
     },
     "metadata": {},
     "output_type": "display_data"
    }
   ],
   "source": [
    "angle = 90\n",
    "\n",
    "# Plot the charge density of plasma and beam\n",
    "filename1 = dirname +'/Species1/Charge/Merged_angle_'+ str(angle) +'/charge_'+str(ndump).zfill(8)+'.h5'\n",
    "filename2 = dirname +'/Beam1/Charge/Merged_angle_'+ str(angle) +'/charge_'+str(ndump).zfill(8)+'.h5'\n",
    "filename3 = dirname +'/Beam2/Charge/Merged_angle_'+ str(angle) +'/charge_'+str(ndump).zfill(8)+'.h5'\n",
    "filenameList = [filename1,filename2,filename3]\n",
    "scaleList = [1,1,1]\n",
    "pyVisQP.makeplot(filenameList,scaleList,LineoutDir = None)"
   ]
  },
  {
   "cell_type": "markdown",
   "metadata": {},
   "source": [
    "## 2. Accelerating field: $E_z$\n",
    "### angle = 0 (xz plane)"
   ]
  },
  {
   "cell_type": "code",
   "execution_count": 13,
   "metadata": {},
   "outputs": [
    {
     "data": {
      "application/vnd.jupyter.widget-view+json": {
       "model_id": "3a45cf28cc3445d0b5c2502e8de16a05",
       "version_major": 2,
       "version_minor": 0
      },
      "text/plain": [
       "interactive(children=(FloatRangeSlider(value=(-1.0, 1.0), continuous_update=False, description='Colorbar:', ma…"
      ]
     },
     "metadata": {},
     "output_type": "display_data"
    },
    {
     "data": {
      "application/vnd.jupyter.widget-view+json": {
       "model_id": "6f6c8ccf985646b28de1d2b051f782ec",
       "version_major": 2,
       "version_minor": 0
      },
      "text/plain": [
       "interactive(children=(FloatRangeSlider(value=(-1.0, 1.0), continuous_update=False, description='Colorbar:', ma…"
      ]
     },
     "metadata": {},
     "output_type": "display_data"
    }
   ],
   "source": [
    "angle = 0\n",
    "# Plot the accelerating field with transverse lineout\n",
    "filename = dirname +'/Fields/Ez/Merged_angle_'+ str(angle) +'/ez_'+str(ndump).zfill(8)+'.h5'\n",
    "filenameList = [filename]\n",
    "pyVisQP.makeplot(filenameList,LineoutDir = 'longitudinal',specify_title = '$E_z \\; [mc\\omega_p / e]$')\n",
    "pyVisQP.makeplot(filenameList,LineoutDir = 'transverse',specify_title = '$E_z \\; [mc\\omega_p / e]$')"
   ]
  },
  {
   "cell_type": "markdown",
   "metadata": {},
   "source": [
    "### angle = 90 (yz plane)"
   ]
  },
  {
   "cell_type": "code",
   "execution_count": 15,
   "metadata": {},
   "outputs": [
    {
     "data": {
      "application/vnd.jupyter.widget-view+json": {
       "model_id": "b7426222f4b645cda3d62636bdba50dc",
       "version_major": 2,
       "version_minor": 0
      },
      "text/plain": [
       "interactive(children=(FloatRangeSlider(value=(-1.0, 1.0), continuous_update=False, description='Colorbar:', ma…"
      ]
     },
     "metadata": {},
     "output_type": "display_data"
    },
    {
     "data": {
      "application/vnd.jupyter.widget-view+json": {
       "model_id": "e254a0949dcb48c18c08ec8d44722cf6",
       "version_major": 2,
       "version_minor": 0
      },
      "text/plain": [
       "interactive(children=(FloatRangeSlider(value=(-1.0, 1.0), continuous_update=False, description='Colorbar:', ma…"
      ]
     },
     "metadata": {},
     "output_type": "display_data"
    }
   ],
   "source": [
    "angle = 90\n",
    "# Plot the accelerating field with transverse lineout\n",
    "filename = dirname +'/Fields/Ez/Merged_angle_'+ str(angle) +'/ez_'+str(ndump).zfill(8)+'.h5'\n",
    "filenameList = [filename]\n",
    "pyVisQP.makeplot(filenameList,LineoutDir = 'longitudinal',specify_title = '$E_z \\; [mc\\omega_p / e]$')\n",
    "pyVisQP.makeplot(filenameList,LineoutDir = 'transverse',specify_title = '$E_z \\; [mc\\omega_p / e]$')"
   ]
  },
  {
   "cell_type": "markdown",
   "metadata": {},
   "source": [
    "## 3. Focusing force\n",
    "### angle = 0 (xz plane)"
   ]
  },
  {
   "cell_type": "code",
   "execution_count": 19,
   "metadata": {},
   "outputs": [],
   "source": [
    "angle = 0"
   ]
  },
  {
   "cell_type": "code",
   "execution_count": 21,
   "metadata": {},
   "outputs": [
    {
     "data": {
      "application/vnd.jupyter.widget-view+json": {
       "model_id": "75a6e5b993e147ae8a60225a836fed3b",
       "version_major": 2,
       "version_minor": 0
      },
      "text/plain": [
       "interactive(children=(FloatRangeSlider(value=(-1.0, 1.0), continuous_update=False, description='Colorbar:', ma…"
      ]
     },
     "metadata": {},
     "output_type": "display_data"
    },
    {
     "data": {
      "application/vnd.jupyter.widget-view+json": {
       "model_id": "b8efae7634904684aa44b0592d4be3ae",
       "version_major": 2,
       "version_minor": 0
      },
      "text/plain": [
       "interactive(children=(FloatRangeSlider(value=(-1.0, 1.0), continuous_update=False, description='Colorbar:', ma…"
      ]
     },
     "metadata": {},
     "output_type": "display_data"
    }
   ],
   "source": [
    "# Plot the x component of the focusing force : Fx with transverse and longitudinal lineout\n",
    "filename1 = dirname + '/Fields/Er/Merged_angle_'+ str(angle) +'/er_'+str(ndump).zfill(8)+'.h5'\n",
    "filename2 = dirname + '/Fields/Bphi/Merged_angle_'+ str(angle) +'/bphi_'+str(ndump).zfill(8)+'.h5'\n",
    "filenameList = [filename1,filename2]\n",
    "scaleList = [-1,1]\n",
    "pyVisQP.makeplot(filenameList,scaleList,LineoutDir = 'transverse',specify_title = '$F_x \\; [mc\\omega_p]$',Show_theory = 'focus')\n",
    "pyVisQP.makeplot(filenameList,scaleList,LineoutDir = 'longitudinal',specify_title = '$F_x \\; [mc\\omega_p]$',Show_theory = 'focus')"
   ]
  },
  {
   "cell_type": "markdown",
   "metadata": {},
   "source": [
    "### angle = 90 (yz plane)"
   ]
  },
  {
   "cell_type": "code",
   "execution_count": 25,
   "metadata": {},
   "outputs": [],
   "source": [
    "angle = 90"
   ]
  },
  {
   "cell_type": "code",
   "execution_count": 27,
   "metadata": {},
   "outputs": [
    {
     "data": {
      "application/vnd.jupyter.widget-view+json": {
       "model_id": "b4cc29bb8d024ac597f991723e9366b9",
       "version_major": 2,
       "version_minor": 0
      },
      "text/plain": [
       "interactive(children=(FloatRangeSlider(value=(-1.0, 1.0), continuous_update=False, description='Colorbar:', ma…"
      ]
     },
     "metadata": {},
     "output_type": "display_data"
    },
    {
     "data": {
      "application/vnd.jupyter.widget-view+json": {
       "model_id": "adcb4ffd89624ccb8aa492effdee7e48",
       "version_major": 2,
       "version_minor": 0
      },
      "text/plain": [
       "interactive(children=(FloatRangeSlider(value=(-1.0, 1.0), continuous_update=False, description='Colorbar:', ma…"
      ]
     },
     "metadata": {},
     "output_type": "display_data"
    }
   ],
   "source": [
    "# Plot the y component of the focusing force : Fy with transverse and longitudinal lineout\n",
    "filename1 = dirname + '/Fields/Er/Merged_angle_'+ str(angle) +'/er_'+str(ndump).zfill(8)+'.h5'\n",
    "filename2 = dirname + '/Fields/Bphi/Merged_angle_'+ str(angle) +'/bphi_'+str(ndump).zfill(8)+'.h5'\n",
    "filenameList = [filename1,filename2]\n",
    "scaleList = [-1,1]\n",
    "pyVisQP.makeplot(filenameList,scaleList,LineoutDir = 'transverse',specify_title = '$F_x \\; [mc\\omega_p]$',Show_theory = 'focus')\n",
    "pyVisQP.makeplot(filenameList,scaleList,LineoutDir = 'longitudinal',specify_title = '$F_x \\; [mc\\omega_p]$',Show_theory = 'focus')"
   ]
  },
  {
   "cell_type": "markdown",
   "metadata": {},
   "source": [
    "# Calculate the emittance"
   ]
  },
  {
   "cell_type": "code",
   "execution_count": 2,
   "metadata": {},
   "outputs": [],
   "source": [
    "ndump = 10\n",
    "first_file_number = 0\n",
    "last_file_number = 430"
   ]
  },
  {
   "cell_type": "markdown",
   "metadata": {},
   "source": [
    "### Plot the emittance evolution for a single slice in witness beam"
   ]
  },
  {
   "cell_type": "code",
   "execution_count": 33,
   "metadata": {},
   "outputs": [
    {
     "name": "stdout",
     "output_type": "stream",
     "text": [
      "In file ../Beam2/Raw/raw_00000000.h5, analyzing  19.985149526745452 % particles\n",
      "In file ../Beam2/Raw/raw_00000010.h5, analyzing  19.985149526745452 % particles\n",
      "In file ../Beam2/Raw/raw_00000020.h5, analyzing  19.985089934156147 % particles\n",
      "In file ../Beam2/Raw/raw_00000030.h5, analyzing  19.985089934156147 % particles\n",
      "In file ../Beam2/Raw/raw_00000040.h5, analyzing  19.985089934156147 % particles\n",
      "In file ../Beam2/Raw/raw_00000050.h5, analyzing  19.985089934156147 % particles\n",
      "In file ../Beam2/Raw/raw_00000060.h5, analyzing  19.985030341566844 % particles\n",
      "In file ../Beam2/Raw/raw_00000070.h5, analyzing  19.985030341566844 % particles\n",
      "In file ../Beam2/Raw/raw_00000080.h5, analyzing  19.985042251170995 % particles\n",
      "In file ../Beam2/Raw/raw_00000090.h5, analyzing  19.98499456812901 % particles\n",
      "In file ../Beam2/Raw/raw_00000100.h5, analyzing  19.985030341566844 % particles\n",
      "In file ../Beam2/Raw/raw_00000110.h5, analyzing  19.98499456812901 % particles\n",
      "In file ../Beam2/Raw/raw_00000120.h5, analyzing  19.984934975468683 % particles\n",
      "In file ../Beam2/Raw/raw_00000130.h5, analyzing  19.98492306592136 % particles\n",
      "In file ../Beam2/Raw/raw_00000140.h5, analyzing  19.98499456812901 % particles\n",
      "In file ../Beam2/Raw/raw_00000150.h5, analyzing  19.98492306592136 % particles\n",
      "In file ../Beam2/Raw/raw_00000160.h5, analyzing  19.984934975468683 % particles\n",
      "In file ../Beam2/Raw/raw_00000170.h5, analyzing  19.984887292334353 % particles\n",
      "In file ../Beam2/Raw/raw_00000180.h5, analyzing  19.984887292334353 % particles\n",
      "In file ../Beam2/Raw/raw_00000190.h5, analyzing  19.98487538280835 % particles\n",
      "In file ../Beam2/Raw/raw_00000200.h5, analyzing  19.98482769963851 % particles\n",
      "In file ../Beam2/Raw/raw_00000210.h5, analyzing  19.984839609143194 % particles\n",
      "In file ../Beam2/Raw/raw_00000220.h5, analyzing  19.984839609143194 % particles\n",
      "In file ../Beam2/Raw/raw_00000230.h5, analyzing  19.98492297607342 % particles\n",
      "In file ../Beam2/Raw/raw_00000240.h5, analyzing  20.083939352380586 % particles\n",
      "In file ../Beam2/Raw/raw_00000250.h5, analyzing  20.132347838406687 % particles\n",
      "In file ../Beam2/Raw/raw_00000260.h5, analyzing  20.26688841898134 % particles\n",
      "In file ../Beam2/Raw/raw_00000270.h5, analyzing  20.371016063310485 % particles\n",
      "In file ../Beam2/Raw/raw_00000280.h5, analyzing  20.49537753163184 % particles\n",
      "In file ../Beam2/Raw/raw_00000290.h5, analyzing  20.65510219919512 % particles\n",
      "In file ../Beam2/Raw/raw_00000300.h5, analyzing  20.745438978944946 % particles\n",
      "In file ../Beam2/Raw/raw_00000310.h5, analyzing  20.807584060517616 % particles\n",
      "In file ../Beam2/Raw/raw_00000320.h5, analyzing  20.85879611056272 % particles\n",
      "In file ../Beam2/Raw/raw_00000330.h5, analyzing  20.941115348325454 % particles\n",
      "In file ../Beam2/Raw/raw_00000340.h5, analyzing  21.09692298401099 % particles\n",
      "In file ../Beam2/Raw/raw_00000350.h5, analyzing  21.290033005982213 % particles\n",
      "In file ../Beam2/Raw/raw_00000360.h5, analyzing  21.39898631208647 % particles\n",
      "In file ../Beam2/Raw/raw_00000370.h5, analyzing  21.5259871763518 % particles\n",
      "In file ../Beam2/Raw/raw_00000380.h5, analyzing  21.65710562225576 % particles\n",
      "In file ../Beam2/Raw/raw_00000390.h5, analyzing  21.728642395584217 % particles\n",
      "In file ../Beam2/Raw/raw_00000400.h5, analyzing  21.798108485813643 % particles\n",
      "In file ../Beam2/Raw/raw_00000410.h5, analyzing  21.901061769127583 % particles\n",
      "In file ../Beam2/Raw/raw_00000420.h5, analyzing  22.024863868709733 % particles\n",
      "In file ../Beam2/Raw/raw_00000430.h5, analyzing  22.11770059753862 % particles\n"
     ]
    }
   ],
   "source": [
    "pyVisQP = reload(pyVisQP)\n",
    "# You cannot have any comment in qpinput.json !!!\n",
    "parameters = pyVisQP.analyze_beam_data_QPAD(first_file_number = first_file_number,last_file_number = last_file_number,\n",
    "                                            ndump = ndump,beam_number = 2, zVisualizeCenter = 0, slice_thickness = 2)"
   ]
  },
  {
   "cell_type": "code",
   "execution_count": 31,
   "metadata": {},
   "outputs": [
    {
     "data": {
      "image/png": "[encoded data removed]",
      "text/plain": [
       "<Figure size 432x288 with 1 Axes>"
      ]
     },
     "metadata": {
      "needs_background": "light"
     },
     "output_type": "display_data"
    }
   ],
   "source": [
    "pyVisQP = reload(pyVisQP)\n",
    "import matplotlib.pyplot as plt\n",
    "plt.plot(parameters['s'], parameters['epsilon_n_x']/parameters['epsilon_n_x'][0],label='x')\n",
    "plt.plot(parameters['s'], parameters['epsilon_n_y']/parameters['epsilon_n_y'][0],label='y')\n",
    "plt.plot(parameters['s'], parameters['emitn_x_theory_noacc'],'--',label='theory (assume no ion motion)')\n",
    "# plt.plot(parameters['s'], parameters['emitn_y_theory'],'--',label='theory_y')\n",
    "plt.xlabel('$z\\;(c/\\omega_p)$')\n",
    "plt.ylabel('$\\epsilon_n / \\epsilon_{ni}  \\;(c/\\omega_p)$')\n",
    "plt.legend(loc='lower right')\n",
    "plt.rcParams.update({'font.size': 16})\n",
    "plt.show()"
   ]
  },
  {
   "cell_type": "markdown",
   "metadata": {},
   "source": [
    "### Plot the emittance evolution for multiple slices in witness beam"
   ]
  },
  {
   "cell_type": "code",
   "execution_count": 7,
   "metadata": {},
   "outputs": [
    {
     "name": "stdout",
     "output_type": "stream",
     "text": [
      "In file ../Beam2/Raw/raw_00000000.h5, analyzing  0.8431755460617939 % particles\n",
      "In file ../Beam2/Raw/raw_00000010.h5, analyzing  0.8432351386510979 % particles\n",
      "In file ../Beam2/Raw/raw_00000020.h5, analyzing  0.8432351386510979 % particles\n",
      "In file ../Beam2/Raw/raw_00000030.h5, analyzing  0.8432351386510979 % particles\n",
      "In file ../Beam2/Raw/raw_00000040.h5, analyzing  0.8432351386510979 % particles\n",
      "In file ../Beam2/Raw/raw_00000050.h5, analyzing  0.8432351386510979 % particles\n",
      "In file ../Beam2/Raw/raw_00000060.h5, analyzing  0.8432947312404019 % particles\n",
      "In file ../Beam2/Raw/raw_00000070.h5, analyzing  0.8433543238297059 % particles\n",
      "In file ../Beam2/Raw/raw_00000080.h5, analyzing  0.8433548264066839 % particles\n",
      "In file ../Beam2/Raw/raw_00000090.h5, analyzing  0.843355328984261 % particles\n",
      "In file ../Beam2/Raw/raw_00000100.h5, analyzing  0.8433543238297059 % particles\n",
      "In file ../Beam2/Raw/raw_00000110.h5, analyzing  0.843355328984261 % particles\n",
      "In file ../Beam2/Raw/raw_00000120.h5, analyzing  0.843355328984261 % particles\n",
      "In file ../Beam2/Raw/raw_00000130.h5, analyzing  0.8433548264066839 % particles\n",
      "In file ../Beam2/Raw/raw_00000140.h5, analyzing  0.843355328984261 % particles\n",
      "In file ../Beam2/Raw/raw_00000150.h5, analyzing  0.8433548264066839 % particles\n",
      "In file ../Beam2/Raw/raw_00000160.h5, analyzing  0.843355328984261 % particles\n",
      "In file ../Beam2/Raw/raw_00000170.h5, analyzing  0.8434154242582795 % particles\n",
      "In file ../Beam2/Raw/raw_00000180.h5, analyzing  0.8434154242582795 % particles\n",
      "In file ../Beam2/Raw/raw_00000190.h5, analyzing  0.8434149216445906 % particles\n",
      "In file ../Beam2/Raw/raw_00000200.h5, analyzing  0.8434154242582795 % particles\n",
      "In file ../Beam2/Raw/raw_00000210.h5, analyzing  0.8434159268725675 % particles\n",
      "In file ../Beam2/Raw/raw_00000220.h5, analyzing  0.8434159268725675 % particles\n",
      "In file ../Beam2/Raw/raw_00000230.h5, analyzing  0.8434194451893566 % particles\n",
      "In file ../Beam2/Raw/raw_00000240.h5, analyzing  0.8475383239797889 % particles\n",
      "In file ../Beam2/Raw/raw_00000250.h5, analyzing  0.8495811526496583 % particles\n",
      "In file ../Beam2/Raw/raw_00000260.h5, analyzing  0.8552612892133252 % particles\n",
      "In file ../Beam2/Raw/raw_00000270.h5, analyzing  0.8596580320197105 % particles\n",
      "In file ../Beam2/Raw/raw_00000280.h5, analyzing  0.864906093028742 % particles\n",
      "In file ../Beam2/Raw/raw_00000290.h5, analyzing  0.8716464830493338 % particles\n",
      "In file ../Beam2/Raw/raw_00000300.h5, analyzing  0.8754587002729313 % particles\n",
      "In file ../Beam2/Raw/raw_00000310.h5, analyzing  0.8780812262362133 % particles\n",
      "In file ../Beam2/Raw/raw_00000320.h5, analyzing  0.880242377649606 % particles\n",
      "In file ../Beam2/Raw/raw_00000330.h5, analyzing  0.8837162541471032 % particles\n",
      "In file ../Beam2/Raw/raw_00000340.h5, analyzing  0.8902913452005294 % particles\n",
      "In file ../Beam2/Raw/raw_00000350.h5, analyzing  0.8984432781498366 % particles\n",
      "In file ../Beam2/Raw/raw_00000360.h5, analyzing  0.9030411275507306 % particles\n",
      "In file ../Beam2/Raw/raw_00000370.h5, analyzing  0.908400587199588 % particles\n",
      "In file ../Beam2/Raw/raw_00000380.h5, analyzing  0.9139338095450287 % particles\n",
      "In file ../Beam2/Raw/raw_00000390.h5, analyzing  0.9169526744345016 % particles\n",
      "In file ../Beam2/Raw/raw_00000400.h5, analyzing  0.9198868991517437 % particles\n",
      "In file ../Beam2/Raw/raw_00000410.h5, analyzing  0.9242315594513649 % particles\n",
      "In file ../Beam2/Raw/raw_00000420.h5, analyzing  0.9294560462258581 % particles\n",
      "In file ../Beam2/Raw/raw_00000430.h5, analyzing  0.9333737848069542 % particles\n",
      "In file ../Beam2/Raw/raw_00000000.h5, analyzing  0.8359648427560142 % particles\n",
      "In file ../Beam2/Raw/raw_00000010.h5, analyzing  0.8359648427560142 % particles\n",
      "In file ../Beam2/Raw/raw_00000020.h5, analyzing  0.8359648427560142 % particles\n",
      "In file ../Beam2/Raw/raw_00000030.h5, analyzing  0.8359648427560142 % particles\n",
      "In file ../Beam2/Raw/raw_00000040.h5, analyzing  0.8359648427560142 % particles\n",
      "In file ../Beam2/Raw/raw_00000050.h5, analyzing  0.8359052501667102 % particles\n",
      "In file ../Beam2/Raw/raw_00000060.h5, analyzing  0.8359052501667102 % particles\n",
      "In file ../Beam2/Raw/raw_00000070.h5, analyzing  0.8359052501667102 % particles\n",
      "In file ../Beam2/Raw/raw_00000080.h5, analyzing  0.8359057483045897 % particles\n",
      "In file ../Beam2/Raw/raw_00000090.h5, analyzing  0.8359062464430631 % particles\n",
      "In file ../Beam2/Raw/raw_00000100.h5, analyzing  0.8359052501667102 % particles\n",
      "In file ../Beam2/Raw/raw_00000110.h5, analyzing  0.8358466537827335 % particles\n",
      "In file ../Beam2/Raw/raw_00000120.h5, analyzing  0.8358466537827335 % particles\n",
      "In file ../Beam2/Raw/raw_00000130.h5, analyzing  0.835846155679773 % particles\n",
      "In file ../Beam2/Raw/raw_00000140.h5, analyzing  0.8358466537827335 % particles\n",
      "In file ../Beam2/Raw/raw_00000150.h5, analyzing  0.8359057483045897 % particles\n",
      "In file ../Beam2/Raw/raw_00000160.h5, analyzing  0.8359062464430631 % particles\n",
      "In file ../Beam2/Raw/raw_00000170.h5, analyzing  0.8359067445821301 % particles\n",
      "In file ../Beam2/Raw/raw_00000180.h5, analyzing  0.8359067445821301 % particles\n",
      "In file ../Beam2/Raw/raw_00000190.h5, analyzing  0.8358466537827335 % particles\n",
      "In file ../Beam2/Raw/raw_00000200.h5, analyzing  0.8358471518862876 % particles\n",
      "In file ../Beam2/Raw/raw_00000210.h5, analyzing  0.8357880572590799 % particles\n",
      "In file ../Beam2/Raw/raw_00000220.h5, analyzing  0.8357880572590799 % particles\n",
      "In file ../Beam2/Raw/raw_00000230.h5, analyzing  0.8357915437561455 % particles\n",
      "In file ../Beam2/Raw/raw_00000240.h5, analyzing  0.8399325179350295 % particles\n",
      "In file ../Beam2/Raw/raw_00000250.h5, analyzing  0.8419570142673444 % particles\n",
      "In file ../Beam2/Raw/raw_00000260.h5, analyzing  0.8475861773047546 % particles\n",
      "In file ../Beam2/Raw/raw_00000270.h5, analyzing  0.8519434637561077 % particles\n",
      "In file ../Beam2/Raw/raw_00000280.h5, analyzing  0.8571444286834444 % particles\n",
      "In file ../Beam2/Raw/raw_00000290.h5, analyzing  0.8638243304668533 % particles\n",
      "In file ../Beam2/Raw/raw_00000300.h5, analyzing  0.8676023368660163 % particles\n",
      "In file ../Beam2/Raw/raw_00000310.h5, analyzing  0.8702013282901986 % particles\n",
      "In file ../Beam2/Raw/raw_00000320.h5, analyzing  0.8723430855381378 % particles\n",
      "In file ../Beam2/Raw/raw_00000330.h5, analyzing  0.8757857874797289 % particles\n",
      "In file ../Beam2/Raw/raw_00000340.h5, analyzing  0.8823018736883426 % particles\n",
      "In file ../Beam2/Raw/raw_00000350.h5, analyzing  0.890380651219012 % particles\n",
      "In file ../Beam2/Raw/raw_00000360.h5, analyzing  0.8949372395349773 % particles\n",
      "In file ../Beam2/Raw/raw_00000370.h5, analyzing  0.9001844145623957 % particles\n",
      "In file ../Beam2/Raw/raw_00000380.h5, analyzing  0.90566759080409 % particles\n",
      "In file ../Beam2/Raw/raw_00000390.h5, analyzing  0.9086591510930929 % particles\n",
      "In file ../Beam2/Raw/raw_00000400.h5, analyzing  0.9115668367512757 % particles\n",
      "In file ../Beam2/Raw/raw_00000410.h5, analyzing  0.9158722010843655 % particles\n",
      "In file ../Beam2/Raw/raw_00000420.h5, analyzing  0.9210494341627639 % particles\n",
      "In file ../Beam2/Raw/raw_00000430.h5, analyzing  0.9249317381382649 % particles\n",
      "In file ../Beam2/Raw/raw_00000000.h5, analyzing  0.833104398469424 % particles\n",
      "In file ../Beam2/Raw/raw_00000010.h5, analyzing  0.833104398469424 % particles\n",
      "In file ../Beam2/Raw/raw_00000020.h5, analyzing  0.833104398469424 % particles\n",
      "In file ../Beam2/Raw/raw_00000030.h5, analyzing  0.833104398469424 % particles\n",
      "In file ../Beam2/Raw/raw_00000040.h5, analyzing  0.833104398469424 % particles\n",
      "In file ../Beam2/Raw/raw_00000050.h5, analyzing  0.833104398469424 % particles\n",
      "In file ../Beam2/Raw/raw_00000060.h5, analyzing  0.833104398469424 % particles\n",
      "In file ../Beam2/Raw/raw_00000070.h5, analyzing  0.833104398469424 % particles\n",
      "In file ../Beam2/Raw/raw_00000080.h5, analyzing  0.8331048949382025 % particles\n",
      "In file ../Beam2/Raw/raw_00000090.h5, analyzing  0.8331053914075727 % particles\n",
      "In file ../Beam2/Raw/raw_00000100.h5, analyzing  0.833104398469424 % particles\n",
      "In file ../Beam2/Raw/raw_00000110.h5, analyzing  0.8331053914075727 % particles\n",
      "In file ../Beam2/Raw/raw_00000120.h5, analyzing  0.8331053914075727 % particles\n",
      "In file ../Beam2/Raw/raw_00000130.h5, analyzing  0.8331048949382025 % particles\n",
      "In file ../Beam2/Raw/raw_00000140.h5, analyzing  0.8331053914075727 % particles\n",
      "In file ../Beam2/Raw/raw_00000150.h5, analyzing  0.8331048949382025 % particles\n",
      "In file ../Beam2/Raw/raw_00000160.h5, analyzing  0.8331053914075727 % particles\n",
      "In file ../Beam2/Raw/raw_00000170.h5, analyzing  0.8331058878775346 % particles\n",
      "In file ../Beam2/Raw/raw_00000180.h5, analyzing  0.8331058878775346 % particles\n",
      "In file ../Beam2/Raw/raw_00000190.h5, analyzing  0.8331649840679023 % particles\n",
      "In file ../Beam2/Raw/raw_00000200.h5, analyzing  0.833165480573377 % particles\n",
      "In file ../Beam2/Raw/raw_00000210.h5, analyzing  0.8330467916167329 % particles\n",
      "In file ../Beam2/Raw/raw_00000220.h5, analyzing  0.8329871988853775 % particles\n",
      "In file ../Beam2/Raw/raw_00000230.h5, analyzing  0.8329906736986383 % particles\n",
      "In file ../Beam2/Raw/raw_00000240.h5, analyzing  0.8371177708161031 % particles\n",
      "In file ../Beam2/Raw/raw_00000250.h5, analyzing  0.8391354827400314 % particles\n",
      "In file ../Beam2/Raw/raw_00000260.h5, analyzing  0.844745781559063 % particles\n",
      "In file ../Beam2/Raw/raw_00000270.h5, analyzing  0.8490277214202581 % particles\n",
      "In file ../Beam2/Raw/raw_00000280.h5, analyzing  0.8542108862537259 % particles\n",
      "In file ../Beam2/Raw/raw_00000290.h5, analyzing  0.8608679263411911 % particles\n",
      "In file ../Beam2/Raw/raw_00000300.h5, analyzing  0.8646330026649776 % particles\n",
      "In file ../Beam2/Raw/raw_00000310.h5, analyzing  0.867285145585768 % particles\n",
      "In file ../Beam2/Raw/raw_00000320.h5, analyzing  0.8694819246158735 % particles\n",
      "In file ../Beam2/Raw/raw_00000330.h5, analyzing  0.8729133349860342 % particles\n",
      "In file ../Beam2/Raw/raw_00000340.h5, analyzing  0.8794709585855993 % particles\n",
      "In file ../Beam2/Raw/raw_00000350.h5, analyzing  0.8875238149049404 % particles\n",
      "In file ../Beam2/Raw/raw_00000360.h5, analyzing  0.8920657831514425 % particles\n",
      "In file ../Beam2/Raw/raw_00000370.h5, analyzing  0.8973601052183607 % particles\n",
      "In file ../Beam2/Raw/raw_00000380.h5, analyzing  0.9028260781118923 % particles\n",
      "In file ../Beam2/Raw/raw_00000390.h5, analyzing  0.9058082524444837 % particles\n",
      "In file ../Beam2/Raw/raw_00000400.h5, analyzing  0.9087068153011147 % particles\n",
      "In file ../Beam2/Raw/raw_00000410.h5, analyzing  0.9128680566712252 % particles\n",
      "In file ../Beam2/Raw/raw_00000420.h5, analyzing  0.9180283079525894 % particles\n",
      "In file ../Beam2/Raw/raw_00000430.h5, analyzing  0.9218978776167046 % particles\n",
      "In file ../Beam2/Raw/raw_00000000.h5, analyzing  0.8557495824049305 % particles\n",
      "In file ../Beam2/Raw/raw_00000010.h5, analyzing  0.8557495824049305 % particles\n",
      "In file ../Beam2/Raw/raw_00000020.h5, analyzing  0.8557495824049305 % particles\n",
      "In file ../Beam2/Raw/raw_00000030.h5, analyzing  0.8557495824049305 % particles\n",
      "In file ../Beam2/Raw/raw_00000040.h5, analyzing  0.8557495824049305 % particles\n",
      "In file ../Beam2/Raw/raw_00000050.h5, analyzing  0.8557495824049305 % particles\n",
      "In file ../Beam2/Raw/raw_00000060.h5, analyzing  0.8557495824049305 % particles\n",
      "In file ../Beam2/Raw/raw_00000070.h5, analyzing  0.8556899898156265 % particles\n",
      "In file ../Beam2/Raw/raw_00000080.h5, analyzing  0.8556904997437517 % particles\n",
      "In file ../Beam2/Raw/raw_00000090.h5, analyzing  0.8557506023328143 % particles\n",
      "In file ../Beam2/Raw/raw_00000100.h5, analyzing  0.8557495824049305 % particles\n",
      "In file ../Beam2/Raw/raw_00000110.h5, analyzing  0.8556910096724848 % particles\n",
      "In file ../Beam2/Raw/raw_00000120.h5, analyzing  0.8556910096724848 % particles\n",
      "In file ../Beam2/Raw/raw_00000130.h5, analyzing  0.8557500923685685 % particles\n",
      "In file ../Beam2/Raw/raw_00000140.h5, analyzing  0.8557506023328143 % particles\n",
      "In file ../Beam2/Raw/raw_00000150.h5, analyzing  0.8557500923685685 % particles\n",
      "In file ../Beam2/Raw/raw_00000160.h5, analyzing  0.8556910096724848 % particles\n",
      "In file ../Beam2/Raw/raw_00000170.h5, analyzing  0.8556915196018253 % particles\n",
      "In file ../Beam2/Raw/raw_00000180.h5, analyzing  0.8556915196018253 % particles\n",
      "In file ../Beam2/Raw/raw_00000190.h5, analyzing  0.8557506023328143 % particles\n",
      "In file ../Beam2/Raw/raw_00000200.h5, analyzing  0.855631926905983 % particles\n",
      "In file ../Beam2/Raw/raw_00000210.h5, analyzing  0.8556324368004184 % particles\n",
      "In file ../Beam2/Raw/raw_00000220.h5, analyzing  0.8556324368004184 % particles\n",
      "In file ../Beam2/Raw/raw_00000230.h5, analyzing  0.855636006078484 % particles\n",
      "In file ../Beam2/Raw/raw_00000240.h5, analyzing  0.8598753007138079 % particles\n",
      "In file ../Beam2/Raw/raw_00000250.h5, analyzing  0.8619478653012855 % particles\n",
      "In file ../Beam2/Raw/raw_00000260.h5, analyzing  0.8676502493807031 % particles\n",
      "In file ../Beam2/Raw/raw_00000270.h5, analyzing  0.8720499369470719 % particles\n",
      "In file ../Beam2/Raw/raw_00000280.h5, analyzing  0.8773736483550466 % particles\n",
      "In file ../Beam2/Raw/raw_00000290.h5, analyzing  0.884334384088633 % particles\n",
      "In file ../Beam2/Raw/raw_00000300.h5, analyzing  0.8882020928857226 % particles\n",
      "In file ../Beam2/Raw/raw_00000310.h5, analyzing  0.8908007465427723 % particles\n",
      "In file ../Beam2/Raw/raw_00000320.h5, analyzing  0.8929310043483426 % particles\n",
      "In file ../Beam2/Raw/raw_00000330.h5, analyzing  0.8964549565104448 % particles\n",
      "In file ../Beam2/Raw/raw_00000340.h5, analyzing  0.9031248269996326 % particles\n",
      "In file ../Beam2/Raw/raw_00000350.h5, analyzing  0.911394269440295 % particles\n",
      "In file ../Beam2/Raw/raw_00000360.h5, analyzing  0.9160583964894213 % particles\n",
      "In file ../Beam2/Raw/raw_00000370.h5, analyzing  0.9214951123401136 % particles\n",
      "In file ../Beam2/Raw/raw_00000380.h5, analyzing  0.9271080956633995 % particles\n",
      "In file ../Beam2/Raw/raw_00000390.h5, analyzing  0.9301704772598717 % particles\n",
      "In file ../Beam2/Raw/raw_00000400.h5, analyzing  0.9331469986024896 % particles\n",
      "In file ../Beam2/Raw/raw_00000410.h5, analyzing  0.9375542868487701 % particles\n",
      "In file ../Beam2/Raw/raw_00000420.h5, analyzing  0.9427884075446715 % particles\n",
      "In file ../Beam2/Raw/raw_00000430.h5, analyzing  0.9467623431955785 % particles\n",
      "In file ../Beam2/Raw/raw_00000000.h5, analyzing  0.8511609530285251 % particles\n",
      "In file ../Beam2/Raw/raw_00000010.h5, analyzing  0.8511013604392212 % particles\n",
      "In file ../Beam2/Raw/raw_00000020.h5, analyzing  0.8511013604392212 % particles\n",
      "In file ../Beam2/Raw/raw_00000030.h5, analyzing  0.8510417678499173 % particles\n",
      "In file ../Beam2/Raw/raw_00000040.h5, analyzing  0.8510417678499173 % particles\n",
      "In file ../Beam2/Raw/raw_00000050.h5, analyzing  0.8511013604392212 % particles\n",
      "In file ../Beam2/Raw/raw_00000060.h5, analyzing  0.8507438049033974 % particles\n",
      "In file ../Beam2/Raw/raw_00000070.h5, analyzing  0.8522932122253005 % particles\n",
      "In file ../Beam2/Raw/raw_00000080.h5, analyzing  0.8524129053788304 % particles\n",
      "In file ../Beam2/Raw/raw_00000090.h5, analyzing  0.8503276702428222 % particles\n",
      "In file ../Beam2/Raw/raw_00000100.h5, analyzing  0.8502670641889656 % particles\n",
      "In file ../Beam2/Raw/raw_00000110.h5, analyzing  0.8497317436395264 % particles\n",
      "In file ../Beam2/Raw/raw_00000120.h5, analyzing  0.8499105216205151 % particles\n",
      "In file ../Beam2/Raw/raw_00000130.h5, analyzing  0.8483606068912911 % particles\n",
      "In file ../Beam2/Raw/raw_00000140.h5, analyzing  0.8492550023568897 % particles\n",
      "In file ../Beam2/Raw/raw_00000150.h5, analyzing  0.8472283470197729 % particles\n",
      "In file ../Beam2/Raw/raw_00000160.h5, analyzing  0.8447259601718413 % particles\n",
      "In file ../Beam2/Raw/raw_00000170.h5, analyzing  0.8443689073917588 % particles\n",
      "In file ../Beam2/Raw/raw_00000180.h5, analyzing  0.8450840197418683 % particles\n",
      "In file ../Beam2/Raw/raw_00000190.h5, analyzing  0.844487589530523 % particles\n",
      "In file ../Beam2/Raw/raw_00000200.h5, analyzing  0.8444880927834438 % particles\n",
      "In file ../Beam2/Raw/raw_00000210.h5, analyzing  0.8445481887683195 % particles\n",
      "In file ../Beam2/Raw/raw_00000220.h5, analyzing  0.8453228942759393 % particles\n",
      "In file ../Beam2/Raw/raw_00000230.h5, analyzing  0.8454456065075534 % particles\n",
      "In file ../Beam2/Raw/raw_00000240.h5, analyzing  0.8484366475283824 % particles\n",
      "In file ../Beam2/Raw/raw_00000250.h5, analyzing  0.8514421628059712 % particles\n",
      "In file ../Beam2/Raw/raw_00000260.h5, analyzing  0.856590836158117 % particles\n",
      "In file ../Beam2/Raw/raw_00000270.h5, analyzing  0.8610551585556384 % particles\n",
      "In file ../Beam2/Raw/raw_00000280.h5, analyzing  0.8637448991503116 % particles\n",
      "In file ../Beam2/Raw/raw_00000290.h5, analyzing  0.865487307787538 % particles\n",
      "In file ../Beam2/Raw/raw_00000300.h5, analyzing  0.8677879202535812 % particles\n",
      "In file ../Beam2/Raw/raw_00000310.h5, analyzing  0.8711940713385155 % particles\n",
      "In file ../Beam2/Raw/raw_00000320.h5, analyzing  0.8738980643002378 % particles\n",
      "In file ../Beam2/Raw/raw_00000330.h5, analyzing  0.8772844583460044 % particles\n",
      "In file ../Beam2/Raw/raw_00000340.h5, analyzing  0.8838116950764724 % particles\n",
      "In file ../Beam2/Raw/raw_00000350.h5, analyzing  0.8919042972531837 % particles\n",
      "In file ../Beam2/Raw/raw_00000360.h5, analyzing  0.896468682939529 % particles\n",
      "In file ../Beam2/Raw/raw_00000370.h5, analyzing  0.9017891357805974 % particles\n",
      "In file ../Beam2/Raw/raw_00000380.h5, analyzing  0.9072820866519296 % particles\n",
      "In file ../Beam2/Raw/raw_00000390.h5, analyzing  0.9102789798707118 % particles\n",
      "In file ../Beam2/Raw/raw_00000400.h5, analyzing  0.9131918489388671 % particles\n",
      "In file ../Beam2/Raw/raw_00000410.h5, analyzing  0.9175701957526622 % particles\n",
      "In file ../Beam2/Raw/raw_00000420.h5, analyzing  0.9235451471189948 % particles\n",
      "In file ../Beam2/Raw/raw_00000430.h5, analyzing  0.9292846684518078 % particles\n"
     ]
    }
   ],
   "source": [
    "pyVisQP = reload(pyVisQP)\n",
    "\n",
    "xi_s = [-1,-0.5,0,0.5,1]\n",
    "slice_thickness = 0.05\n",
    "\n",
    "parameters_xi_s = [] \n",
    "\n",
    "for xi in xi_s:\n",
    "\n",
    "    parameters_xi = pyVisQP.analyze_beam_data_QPAD(first_file_number = first_file_number,last_file_number = last_file_number,\n",
    "                                            ndump = ndump,beam_number = 2, zVisualizeCenter = xi, slice_thickness = slice_thickness)\n",
    "    parameters_xi_s.append(parameters_xi)"
   ]
  },
  {
   "cell_type": "code",
   "execution_count": 35,
   "metadata": {},
   "outputs": [
    {
     "data": {
      "image/png": "[encoded data removed]",
      "text/plain": [
       "<Figure size 432x288 with 1 Axes>"
      ]
     },
     "metadata": {
      "needs_background": "light"
     },
     "output_type": "display_data"
    }
   ],
   "source": [
    "pyVisQP = reload(pyVisQP)\n",
    "import matplotlib.pyplot as plt\n",
    "fig, ax = plt.subplots()\n",
    "for i in range(len(xi_s)):\n",
    "    plt.plot(parameters_xi_s[i]['s'], parameters_xi_s[i]['epsilon_n_x']/parameters_xi_s[i]['epsilon_n_x'][0],label='xi =' + str(xi_s[i]) )\n",
    "plt.xlabel('$z\\;(c/\\omega_p)$')\n",
    "plt.ylabel('$\\epsilon_n / \\epsilon_{ni}  \\;(c/\\omega_p)$')\n",
    "plt.legend(loc='best')\n",
    "plt.rcParams.update({'font.size': 10})\n",
    "plt.show()\n",
    "fig.savefig('focus_x.png', format='png')"
   ]
  },
  {
   "cell_type": "code",
   "execution_count": null,
   "metadata": {},
   "outputs": [],
   "source": []
  },
  {
   "cell_type": "code",
   "execution_count": null,
   "metadata": {},
   "outputs": [],
   "source": []
  }
 ],
 "metadata": {
  "kernelspec": {
   "display_name": "Python 3",
   "language": "python",
   "name": "python3"
  },
  "language_info": {
   "codemirror_mode": {
    "name": "ipython",
    "version": 3
   },
   "file_extension": ".py",
   "mimetype": "text/x-python",
   "name": "python",
   "nbconvert_exporter": "python",
   "pygments_lexer": "ipython3",
   "version": "3.7.4"
  }
 },
 "nbformat": 4,
 "nbformat_minor": 4
}

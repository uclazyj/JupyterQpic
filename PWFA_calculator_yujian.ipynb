{
 "cells": [
  {
   "cell_type": "markdown",
   "metadata": {},
   "source": [
    "# Useful calculations in PWFA"
   ]
  },
  {
   "cell_type": "code",
   "execution_count": 1,
   "metadata": {},
   "outputs": [],
   "source": [
    "from __future__ import print_function\n",
    "from ipywidgets import interact, interactive, fixed, interact_manual\n",
    "import ipywidgets as widgets\n",
    "import numpy as np\n",
    "from math import *\n",
    "from ipywidgets import interact, interactive, IntSlider, Layout, interact_manual, FloatSlider, HBox, VBox, interactive_output\n",
    "c = 3e8\n",
    "m = 9.11e-31\n",
    "e = 1.6e-19\n",
    "epsilon0 = 8.85e-12\n",
    "\n",
    "style = {'description_width': '350px'}\n",
    "layout = Layout(width='55%')"
   ]
  },
  {
   "cell_type": "markdown",
   "metadata": {},
   "source": [
    "## From $\\mu m$ to normalized units:"
   ]
  },
  {
   "cell_type": "code",
   "execution_count": 2,
   "metadata": {},
   "outputs": [
    {
     "data": {
      "application/vnd.jupyter.widget-view+json": {
       "model_id": "57cdfceaae5949fb9eeecf48ac33435c",
       "version_major": 2,
       "version_minor": 0
      },
      "text/plain": [
       "interactive(children=(FloatText(value=4.0, description='$n_0\\\\;(10^{16}/cm^3)$', layout=Layout(width='55%'), s…"
      ]
     },
     "metadata": {},
     "output_type": "display_data"
    }
   ],
   "source": [
    "def micron2normalized(n_p,x): # n_p is in 10^16 /cm^3, x is in um\n",
    "    # Convert to SI unit\n",
    "    n_p = n_p * 1e22\n",
    "    wp = np.sqrt(n_p * e * e/ epsilon0 / m)\n",
    "    \n",
    "    # convert x from um to m:\n",
    "    x = x/1e6\n",
    "    ret = x/(c/wp)\n",
    "    print('In normalized units, x = ',ret)\n",
    "\n",
    "interact(micron2normalized, \n",
    "         n_p = widgets.FloatText(value = 4, description='$n_0\\;(10^{16}/cm^3)$',style = style,layout = layout),\n",
    "        x = widgets.FloatText(value = 1, description='x ($\\mu$m):',style = style,layout = layout)\n",
    "        );"
   ]
  },
  {
   "cell_type": "markdown",
   "metadata": {},
   "source": [
    "## From normalized units to $\\mu m$:"
   ]
  },
  {
   "cell_type": "code",
   "execution_count": 3,
   "metadata": {},
   "outputs": [
    {
     "data": {
      "application/vnd.jupyter.widget-view+json": {
       "model_id": "e2c8a502532049c9bc20a4661bbfbd40",
       "version_major": 2,
       "version_minor": 0
      },
      "text/plain": [
       "interactive(children=(FloatText(value=4.0, description='$n_0\\\\;(10^{16}/cm^3)$', layout=Layout(width='55%'), s…"
      ]
     },
     "metadata": {},
     "output_type": "display_data"
    }
   ],
   "source": [
    "def normalized2micron(n_p,x): # n_p is in 10^16 /cm^3, x is in um\n",
    "    # Convert to SI unit\n",
    "    n_p = n_p * 1e22\n",
    "    wp = np.sqrt(n_p * e * e/ epsilon0 / m)\n",
    "    print('The plasma frequency is:',wp,'rad/s')\n",
    "    ret = x * (c/wp)\n",
    "    # Change from meter to um\n",
    "    ret = ret * 1e6\n",
    "    print('In SI units, x = ',ret,'um!')\n",
    "\n",
    "interact(normalized2micron, \n",
    "         n_p = widgets.FloatText(value = 4, description='$n_0\\;(10^{16}/cm^3)$',style = style,layout = layout),\n",
    "        x = widgets.FloatText(value = 1, description='x (normalized):',style = style,layout = layout)\n",
    "        );"
   ]
  },
  {
   "cell_type": "markdown",
   "metadata": {},
   "source": [
    "## E_z: from normalized units to $GV/m$:"
   ]
  },
  {
   "cell_type": "code",
   "execution_count": 4,
   "metadata": {},
   "outputs": [
    {
     "data": {
      "application/vnd.jupyter.widget-view+json": {
       "model_id": "773128da675b451d8f2115fa126ae2d8",
       "version_major": 2,
       "version_minor": 0
      },
      "text/plain": [
       "interactive(children=(FloatText(value=4.0, description='$n_0\\\\;(10^{16}/cm^3)$', layout=Layout(width='55%'), s…"
      ]
     },
     "metadata": {},
     "output_type": "display_data"
    }
   ],
   "source": [
    "def normalized2Ez(n_p,Ez): # n_p is in 10^16 /cm^3, x is in um\n",
    "    # Convert to SI unit\n",
    "    n_p = n_p * 1e22\n",
    "    wp = np.sqrt(n_p * e * e/ epsilon0 / m)\n",
    "    ret = Ez * (m * c * wp / e)\n",
    "    # Change from SI to GeV/m\n",
    "    ret = ret / 1e9\n",
    "    print('Ez is = ',ret,'GeV/m!')\n",
    "\n",
    "interact(normalized2Ez, \n",
    "         n_p = widgets.FloatText(value = 4, description='$n_0\\;(10^{16}/cm^3)$',style = style,layout = layout),\n",
    "        Ez = widgets.FloatText(value = 1, description='Ez (normalized):',style = style,layout = layout)\n",
    "        );"
   ]
  },
  {
   "cell_type": "markdown",
   "metadata": {},
   "source": [
    "## Calculate the position of the focal plane and $\\beta^*$"
   ]
  },
  {
   "cell_type": "code",
   "execution_count": 5,
   "metadata": {
    "scrolled": true
   },
   "outputs": [
    {
     "data": {
      "application/vnd.jupyter.widget-view+json": {
       "model_id": "51947a497e784f1580b18c2e189e3c5b",
       "version_major": 2,
       "version_minor": 0
      },
      "text/plain": [
       "interactive(children=(FloatText(value=0.0, description='$\\\\alpha$', layout=Layout(width='55%'), style=Descript…"
      ]
     },
     "metadata": {},
     "output_type": "display_data"
    }
   ],
   "source": [
    "def findBeamWaist(alpha,beta):\n",
    "    gamma = (1 + alpha ** 2) / beta\n",
    "    z = - alpha / gamma\n",
    "    beta_star = 1 / gamma\n",
    "    print('The beam is at z = ',z,', beta at the beam waist is:',beta_star,'m')\n",
    "    \n",
    "interact(findBeamWaist, \n",
    "         alpha = widgets.FloatText(value = 0, description='$\\\\alpha$',style = style,layout = layout),\n",
    "        beta = widgets.FloatText(value = 1, description='$\\\\beta$ (m)',style = style,layout = layout)\n",
    "        );"
   ]
  },
  {
   "cell_type": "markdown",
   "metadata": {},
   "source": [
    "## Beam's propagation in vacuum"
   ]
  },
  {
   "cell_type": "code",
   "execution_count": 6,
   "metadata": {
    "scrolled": true
   },
   "outputs": [
    {
     "data": {
      "application/vnd.jupyter.widget-view+json": {
       "model_id": "3f0f708935b548bcadb4c46f5de23831",
       "version_major": 2,
       "version_minor": 0
      },
      "text/plain": [
       "interactive(children=(FloatText(value=0.0, description='$\\\\alpha_i$', layout=Layout(width='55%'), style=Descri…"
      ]
     },
     "metadata": {},
     "output_type": "display_data"
    }
   ],
   "source": [
    "def propagateInVacuum(alpha_i,beta_i,z):\n",
    "    gamma_i = (1 + alpha_i ** 2) / beta_i\n",
    "    beta = beta_i - 2 * z * alpha_i + gamma_i * z ** 2\n",
    "    alpha = alpha_i - z * gamma_i\n",
    "    print('After the propagation, alpha =',alpha,', beta =',beta,'m')\n",
    "    \n",
    "interact(propagateInVacuum,\n",
    "        alpha_i = widgets.FloatText(value = 0, description='$\\\\alpha_i$',style = style,layout = layout),\n",
    "        beta_i = widgets.FloatText(value = 1, description='$\\\\beta_i$ (m)',style = style,layout = layout),\n",
    "        z = widgets.FloatText(value = 0, description= 'z (m)',style = style,layout = layout)\n",
    "        );"
   ]
  },
  {
   "cell_type": "markdown",
   "metadata": {},
   "source": [
    "## Matched $\\beta$ and $\\sigma$"
   ]
  },
  {
   "cell_type": "code",
   "execution_count": 7,
   "metadata": {},
   "outputs": [
    {
     "data": {
      "application/vnd.jupyter.widget-view+json": {
       "model_id": "dbdad7ee21234a94a5bc4164ef604ab3",
       "version_major": 2,
       "version_minor": 0
      },
      "text/plain": [
       "interactive(children=(FloatText(value=4.0, description='$n_0\\\\;(10^{16}/cm^3)$', layout=Layout(width='55%'), s…"
      ]
     },
     "metadata": {},
     "output_type": "display_data"
    }
   ],
   "source": [
    "def matchedParameters(n_p,gamma,epsilon_n): # n_p is in 10^16 /cm^3, x is in um\n",
    "    # Convert to SI unit\n",
    "    n_p = n_p * 1e22\n",
    "    wp = sqrt(n_p * e * e/ epsilon0 / m)\n",
    "    beta_m = sqrt(2 * gamma) * c / wp\n",
    "    \n",
    "    epsilon_n = epsilon_n /1e6\n",
    "    epsilon = epsilon_n / gamma\n",
    "    sigma_m = sqrt(beta_m * epsilon)\n",
    "    print('The matched beta is:',beta_m,'m')\n",
    "    print('The matched sigma is:',sigma_m * 1e6,'um')\n",
    "\n",
    "interact(matchedParameters, \n",
    "         n_p = widgets.FloatText(value = 4, description='$n_0\\;(10^{16}/cm^3)$',style = style,layout = layout),\n",
    "         gamma = widgets.FloatText(value = 20000, description='$\\gamma$',style = style,layout = layout),\n",
    "         epsilon_n = widgets.FloatText(value = 10, description='$\\epsilon_n \\;(\\mu m)$',style = style,layout = layout),\n",
    "        );"
   ]
  },
  {
   "cell_type": "markdown",
   "metadata": {},
   "source": [
    "## $\\beta$ and $\\sigma$ conversion"
   ]
  },
  {
   "cell_type": "code",
   "execution_count": 8,
   "metadata": {},
   "outputs": [
    {
     "data": {
      "application/vnd.jupyter.widget-view+json": {
       "model_id": "a5990622321b47e381041fe50d9f0310",
       "version_major": 2,
       "version_minor": 0
      },
      "text/plain": [
       "interactive(children=(Dropdown(description='selection', layout=Layout(width='55%'), options=('beta', 'sigma'),…"
      ]
     },
     "metadata": {},
     "output_type": "display_data"
    }
   ],
   "source": [
    "def betaSigmaConversion(selection,para,epsilon_n,gamma):\n",
    "    if(selection == 'beta'):\n",
    "        sigma = sqrt(para * epsilon_n / gamma)\n",
    "        print('The sigma of the beam is:',sigma,'um')\n",
    "    elif(selection == 'sigma'):\n",
    "        beta = para ** 2/(epsilon_n / gamma)\n",
    "        print('The beta of the beam is:',beta,'um')\n",
    "        \n",
    "interact(betaSigmaConversion,\n",
    "        selection = widgets.Dropdown(options=['beta', 'sigma'],value='beta',style = style,layout = layout),\n",
    "        para = widgets.FloatText(value = 1, description='value ($\\\\beta$ or $\\\\sigma$) ($\\mu m$)',style = style,layout = layout),\n",
    "        epsilon_n = widgets.FloatText(value = 10, description='$\\epsilon_n \\;(\\mu m)$',style = style,layout = layout),\n",
    "        gamma = widgets.FloatText(value = 20000, description='$\\gamma$',style = style,layout = layout),\n",
    "        );"
   ]
  },
  {
   "cell_type": "markdown",
   "metadata": {},
   "source": [
    "## Peak Current Calculation (Total charge, peak density, total number of electrons)"
   ]
  },
  {
   "cell_type": "code",
   "execution_count": 9,
   "metadata": {
    "scrolled": false
   },
   "outputs": [
    {
     "data": {
      "application/vnd.jupyter.widget-view+json": {
       "model_id": "40f942ad501c43eeaf47c3e7d9af1636",
       "version_major": 2,
       "version_minor": 0
      },
      "text/plain": [
       "interactive(children=(Dropdown(description='selection', layout=Layout(width='55%'), options=('N', 'Q', 'I_peak…"
      ]
     },
     "metadata": {},
     "output_type": "display_data"
    }
   ],
   "source": [
    "def beamPeakInfo(selection,para,sigma_x,sigma_y,sigma_z): # sigma are in micron\n",
    "    if(selection == 'N'): # in the unit of 10^10\n",
    "        N = para * 1e10\n",
    "    elif(selection == 'Q'): # the unit is nC\n",
    "        N = para / 1e9 / e\n",
    "    elif(selection == 'I_peak'): # unit is kA\n",
    "        N = para * 1000 * sqrt(2 * pi) * (sigma_z / 1e6) / e / c\n",
    "    elif(selection == 'n_peak'): # unit is in 10^16/cm^3\n",
    "        N = para * 1e16 * 1e6 * (2*pi)**(3/2) * sigma_x / 1e6 * sigma_y / 1e6 * sigma_z / 1e6\n",
    "    \n",
    "    print('The total number of electrons in the beam is:',N/1e10,'*10^10')\n",
    "    Q = N * e * 1e9\n",
    "    print('The total charge in the beam is:',Q,'nC')\n",
    "    I_peak = N * e * c / sqrt(2 * pi) / (sigma_z / 1e6) / 1000\n",
    "    print('The peak current of the beam is:',I_peak,'kA') \n",
    "    n_peak = N / (2*pi)**(3/2) / (sigma_x / 1e6 * sigma_y / 1e6 * sigma_z / 1e6) / 1e6 / 1e16\n",
    "    print('The peak density of the beam is:',n_peak,'*10^16/cm^3')\n",
    "    Lambda = N * e * e / (2*pi)**(3/2) / c / c / epsilon0 / m / (sigma_z / 1e6) \n",
    "    print('The Lambda is:',Lambda)\n",
    "\n",
    "interact(beamPeakInfo,\n",
    "        selection = widgets.Dropdown(options=['N', 'Q','I_peak','n_peak'],value='N',style = style,layout = layout),\n",
    "        para = widgets.FloatText(value = 1, description='Value of the box above: ($10^{10}$, nC, kA, $10^{16}/cm^3$)',style = style,layout = layout),\n",
    "        sigma_x = widgets.FloatText(value = 1, description='$\\sigma_x\\;(\\mu m)$',style = style,layout = layout),\n",
    "        sigma_y = widgets.FloatText(value = 1, description='$\\sigma_y\\;(\\mu m)$',style = style,layout = layout),\n",
    "        sigma_z = widgets.FloatText(value = 1, description='$\\sigma_z\\;(\\mu m)$',style = style,layout = layout),\n",
    "        );"
   ]
  },
  {
   "cell_type": "code",
   "execution_count": 10,
   "metadata": {},
   "outputs": [
    {
     "data": {
      "text/plain": [
       "5.188235294117647"
      ]
     },
     "execution_count": 10,
     "metadata": {},
     "output_type": "execute_result"
    }
   ],
   "source": [
    "88.2/17"
   ]
  },
  {
   "cell_type": "code",
   "execution_count": null,
   "metadata": {},
   "outputs": [],
   "source": []
  }
 ],
 "metadata": {
  "kernelspec": {
   "display_name": "Python 3",
   "language": "python",
   "name": "python3"
  },
  "language_info": {
   "codemirror_mode": {
    "name": "ipython",
    "version": 3
   },
   "file_extension": ".py",
   "mimetype": "text/x-python",
   "name": "python",
   "nbconvert_exporter": "python",
   "pygments_lexer": "ipython3",
   "version": "3.7.3"
  }
 },
 "nbformat": 4,
 "nbformat_minor": 2
}

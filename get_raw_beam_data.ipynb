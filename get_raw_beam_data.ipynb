{
 "cells": [
  {
   "cell_type": "code",
   "execution_count": 1,
   "id": "897e08cc-d127-467e-8051-edb77eb4095e",
   "metadata": {},
   "outputs": [],
   "source": [
    "from helper import *"
   ]
  },
  {
   "cell_type": "code",
   "execution_count": 2,
   "id": "8f0d8506-e5f2-4b5a-8458-c4a74fbb200b",
   "metadata": {},
   "outputs": [],
   "source": [
    "raw_data0 = get_raw_beam_data('../Beam1/Raw/raw_00000000.h5')"
   ]
  },
  {
   "cell_type": "code",
   "execution_count": 3,
   "id": "c1c764cc-ba8e-41df-a97c-c3c9007589b4",
   "metadata": {},
   "outputs": [],
   "source": [
    "x = sorted(raw_data0['x'])"
   ]
  },
  {
   "cell_type": "code",
   "execution_count": 8,
   "id": "07c2af56-4663-4652-881e-7f8fa6212794",
   "metadata": {},
   "outputs": [
    {
     "data": {
      "text/plain": [
       "262128"
      ]
     },
     "execution_count": 8,
     "metadata": {},
     "output_type": "execute_result"
    }
   ],
   "source": [
    "len(x)"
   ]
  },
  {
   "cell_type": "code",
   "execution_count": 5,
   "id": "786af739-d843-4b4d-a6cf-68152bf8ebbd",
   "metadata": {},
   "outputs": [],
   "source": [
    "raw_data8000 = get_raw_beam_data('../raw_00008000.h5')"
   ]
  },
  {
   "cell_type": "code",
   "execution_count": 6,
   "id": "1712fc16-4f77-4b03-9209-970c29321600",
   "metadata": {},
   "outputs": [],
   "source": [
    "x2 = sorted(raw_data8000['x'])"
   ]
  },
  {
   "cell_type": "code",
   "execution_count": 10,
   "id": "d7deab03-66bf-43ac-b4b0-0e690235c9d1",
   "metadata": {},
   "outputs": [
    {
     "data": {
      "text/plain": [
       "262144"
      ]
     },
     "execution_count": 10,
     "metadata": {},
     "output_type": "execute_result"
    }
   ],
   "source": [
    "len(x2) // 8"
   ]
  },
  {
   "cell_type": "code",
   "execution_count": 14,
   "id": "3723d250-fe15-49ca-8225-f484ac68a3d6",
   "metadata": {},
   "outputs": [
    {
     "data": {
      "text/plain": [
       "True"
      ]
     },
     "execution_count": 14,
     "metadata": {},
     "output_type": "execute_result"
    }
   ],
   "source": [
    "x[-10:-1] == x2[-10:-1]"
   ]
  },
  {
   "cell_type": "code",
   "execution_count": 8,
   "id": "4e972990-8927-40d4-969a-1d7915ea11e1",
   "metadata": {},
   "outputs": [
    {
     "data": {
      "text/plain": [
       "array([-0.00158321,  0.00158321, -0.00028926,  0.00028926,  0.00174878,\n",
       "       -0.00174878, -0.00471945,  0.00471945, -0.01337894,  0.01337894])"
      ]
     },
     "execution_count": 8,
     "metadata": {},
     "output_type": "execute_result"
    }
   ],
   "source": [
    "raw_data0['x'][:10]"
   ]
  },
  {
   "cell_type": "code",
   "execution_count": 9,
   "id": "e49ea3fb-387c-4322-82fd-5ab45ddc64d0",
   "metadata": {},
   "outputs": [
    {
     "data": {
      "text/plain": [
       "array([-0.00511385,  0.00511385,  0.00037289, -0.00037289,  0.00180736,\n",
       "       -0.00180736,  0.01039517, -0.01039517, -0.00267316,  0.00267316])"
      ]
     },
     "execution_count": 9,
     "metadata": {},
     "output_type": "execute_result"
    }
   ],
   "source": [
    "raw_data8000['x'][:10]"
   ]
  },
  {
   "cell_type": "code",
   "execution_count": null,
   "id": "da450a09-94a3-4006-b899-c6788f8a16c0",
   "metadata": {},
   "outputs": [],
   "source": []
  }
 ],
 "metadata": {
  "kernelspec": {
   "display_name": "Python 3",
   "language": "python",
   "name": "python3"
  },
  "language_info": {
   "codemirror_mode": {
    "name": "ipython",
    "version": 3
   },
   "file_extension": ".py",
   "mimetype": "text/x-python",
   "name": "python",
   "nbconvert_exporter": "python",
   "pygments_lexer": "ipython3",
   "version": "3.7.4"
  }
 },
 "nbformat": 4,
 "nbformat_minor": 5
}

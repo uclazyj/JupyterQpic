{
 "cells": [
  {
   "cell_type": "markdown",
   "id": "2b1db56c-85ed-48ab-9d78-a8d796b278db",
   "metadata": {},
   "source": [
    "We know:\n",
    "$$\\beta_m(z) = \\sqrt{2 \\gamma} \\frac{c}{\\omega_p(z)}$$\n",
    "\n",
    "So $\\beta_m(z)^2 * n(z)$ is a constant (assuming beam's energy $\\gamma$ does not change). So:\n",
    "$$\\beta_m(z)^2 * n(z) = \\beta_{m0}^2 * n_0$$\n",
    "where $n_0$ is the density peak and $\\beta_{m0}$ is the corresponding matched $\\beta$. In the code (QPAD/QuickPIC) we usually set the peak density to be 1 in the plasma density profile. We also use the density peak's plasma skin depth as the normalization factor, so $\\beta_{m0} = \\sqrt{2\\gamma}$ in normalized units. So we have:\n",
    "$$\\beta_m(z)^2 * n(z) = 2\\gamma$$"
   ]
  },
  {
   "cell_type": "markdown",
   "id": "90c461c8-7325-4b5e-9da4-6f3e9414ff62",
   "metadata": {},
   "source": [
    "Consider the Kernel function:\n",
    "$$f(z) = 6(\\frac{z}{a})^5-15(\\frac{z}{a})^4+10(\\frac{z}{a})^3$$\n",
    "Its derivatives \n",
    "$$f'(z) = \\frac{1}{a}[30(\\frac{z}{a})^4-60(\\frac{z}{a})^3+30(\\frac{z}{a})^2] = \\frac{30}{a}(\\frac{z}{a})^2(\\frac{z}{a}-1)^2$$\n",
    "We notice that $f(0) = 0, f(a) = 1, f'(0) = f'(a) = 0$.\n",
    "\n",
    "We let \n",
    "$$n_p(z) = (n_f - n_i) f(z) + n_i$$\n",
    "So $n_p(0) = n_i$, $n_p(a) = n_f$. When $z$ increases from $0$ to $a$, $n_p(z)$ smoothly transitions from $n_i$ to $n_f$"
   ]
  },
  {
   "cell_type": "code",
   "execution_count": 9,
   "id": "396c6f90-641d-4fe3-8ced-89bcd8fc63f0",
   "metadata": {},
   "outputs": [],
   "source": [
    "import numpy as np\n",
    "import matplotlib.pyplot as plt\n",
    "from pyVisQP import *\n",
    "\n",
    "def warren_ramp(a,n_i,n_f = 1.0,N=1000):\n",
    "    s = np.linspace(0,a,N)\n",
    "    s_a = s / a\n",
    "    fs = 6 * s_a ** 5 - 15 * s_a ** 4 + 10 * s_a ** 3\n",
    "    fs = (n_f - n_i) * fs + n_i\n",
    "    return s,fs\n",
    "\n",
    "def get_beta_m(n,gamma): # Assume max(np) == 1\n",
    "    return np.sqrt(2 * gamma / n)\n",
    "\n",
    "def get_alpha_m(s,beta_m):\n",
    "    return -0.5*NDiff1D(s,beta_m)"
   ]
  },
  {
   "cell_type": "code",
   "execution_count": 10,
   "id": "c26b1c11-4eec-44c3-b5fa-c079aab4e7bf",
   "metadata": {},
   "outputs": [
    {
     "data": {
      "image/png": "[encoded data removed]",
      "text/plain": [
       "<Figure size 432x288 with 1 Axes>"
      ]
     },
     "metadata": {
      "needs_background": "light"
     },
     "output_type": "display_data"
    }
   ],
   "source": [
    "### Set the plasma density profile\n",
    "a = 20000\n",
    "n_i = 0.0\n",
    "n_f = 1.0\n",
    "N=2001\n",
    "###\n",
    "\n",
    "s,fs = warren_ramp(a,n_i,n_f,N)\n",
    "# s = np.append(s,s[-1]+a)\n",
    "# fs = np.append(fs,fs[-1])\n",
    "s_downramp = s + 3 * a\n",
    "fs_downramp = fs[::-1]\n",
    "s = np.append(s,s_downramp)\n",
    "fs = np.append(fs,fs_downramp)\n",
    "plt.plot(s,fs)\n",
    "plt.show()"
   ]
  },
  {
   "cell_type": "markdown",
   "id": "765d9ae0-a061-44ed-9c26-e6e7f554a5ed",
   "metadata": {},
   "source": [
    "$$\\beta_m(z) = \\sqrt{2\\gamma}\\frac{c}{\\omega_p(z)}$$\n",
    "$$\\beta_m(z)^2 n_p(z) = const = \\beta_{m0}^2 n_{p0} = 2\\gamma$$\n",
    "(In simulation, usually we take the peak density to be 1, and uses normalized units for $\\beta$)\n",
    "So:\n",
    "$$\\beta_m(z) = \\sqrt{\\frac{2\\gamma}{n_p(z)}}$$"
   ]
  },
  {
   "cell_type": "code",
   "execution_count": 11,
   "id": "24d6c627-a8ae-41be-bdea-aacac3f83091",
   "metadata": {},
   "outputs": [],
   "source": [
    "### set beam's energy\n",
    "gamma = 48786\n",
    "###\n",
    "\n",
    "density_threshold = 0.01\n",
    "idx = [i for i,a in enumerate(fs) if a > density_threshold][0]\n",
    "\n",
    "# beta_m = get_beta_m(fs[idx:],gamma)\n",
    "# alpha_m = get_alpha_m(s[idx:],beta_m)\n",
    "# plt.figure(1)\n",
    "# plt.plot(s[idx:],beta_m)\n",
    "# plt.xlabel('$z$')\n",
    "# plt.ylabel('$\\\\beta_m$')\n",
    "# plt.figure(2)\n",
    "# plt.plot(s[idx:],alpha_m)\n",
    "# plt.xlabel('$z$')\n",
    "# plt.ylabel('$\\\\alpha_m$')\n",
    "# plt.show()"
   ]
  },
  {
   "cell_type": "code",
   "execution_count": 12,
   "id": "9265720c-5ca4-4483-ba0d-1164d31204c7",
   "metadata": {},
   "outputs": [
    {
     "data": {
      "text/plain": [
       "2120.0"
      ]
     },
     "execution_count": 12,
     "metadata": {},
     "output_type": "execute_result"
    }
   ],
   "source": [
    "s[idx]"
   ]
  },
  {
   "cell_type": "markdown",
   "id": "c952e8da-b4f4-4e39-8335-67da7fc7a2fe",
   "metadata": {},
   "source": [
    "# make the input file\n",
    "\n",
    "Now we make the input file. We assume the beam energy is $\\gamma = 48786$ (25 GeV), $\\epsilon_n = 0.1 \\mu m$, $\\sigma_z = 10 \\mu m$, $N = 10^{10}$ electrons. \n",
    "We choose $\\beta^* = 10 \\sqrt{2\\gamma}$, in other words, at the beam's focal plane, it is matched to the uniform plasma with a density of 1/100 the peak density (because $\\beta = \\sqrt{2 \\gamma}$ is matched to the peak density)"
   ]
  },
  {
   "cell_type": "code",
   "execution_count": 17,
   "id": "d47d023b-6c98-4bf5-bc98-372f2c518d95",
   "metadata": {},
   "outputs": [
    {
     "data": {
      "image/png": "[encoded data removed]",
      "text/plain": [
       "<Figure size 432x288 with 1 Axes>"
      ]
     },
     "metadata": {
      "needs_background": "light"
     },
     "output_type": "display_data"
    },
    {
     "name": "stdout",
     "output_type": "stream",
     "text": [
      "The initial spot size is: 0.023568766663144735\n"
     ]
    }
   ],
   "source": [
    "from helper import *\n",
    "### Set plasma parameters\n",
    "n0 = 10 ** 17\n",
    "set_plasma_density(s,fs,name = 'species',idx = 0,path = '..')\n",
    "get_density_profile(name = 'species', idx = 0, plot = True, save=False, path = '..')\n",
    "### Set beam parameters\n",
    "gamma = 48786\n",
    "N = 1.0 * 10 ** 10 \n",
    "sigma_z = normalize(10,'um',n0)\n",
    "set_one_item('beam',0,'sigmaz',sigma_z,path = '..')\n",
    "set_one_item('beam',0,'gamma',gamma,path = '..')\n",
    "beta_star = 10 * np.sqrt(2 * gamma)\n",
    "s_focal = s[idx]\n",
    "set_Twiss_at_entrance(0,beta_star,s_focal)\n",
    "epsilon_n = normalize(0.1,'um',n0)\n",
    "set_one_item('beam',0,'emittance',[epsilon_n,epsilon_n])\n",
    "\n",
    "set_beam_peak_density(idx = 0,N = N,path= '..',QPAD = True)\n",
    "\n",
    "### Set simulation parameters\n",
    "set_ndump(ndump = 20,path = '..')\n",
    "\n",
    "print('The initial spot size is:',get_init_spot_size(i=0,path = '..',QPAD = True))"
   ]
  },
  {
   "cell_type": "code",
   "execution_count": null,
   "id": "2758a9ca-e31a-4a95-935f-78b0a5af3f4f",
   "metadata": {},
   "outputs": [],
   "source": []
  }
 ],
 "metadata": {
  "kernelspec": {
   "display_name": "Python 3",
   "language": "python",
   "name": "python3"
  },
  "language_info": {
   "codemirror_mode": {
    "name": "ipython",
    "version": 3
   },
   "file_extension": ".py",
   "mimetype": "text/x-python",
   "name": "python",
   "nbconvert_exporter": "python",
   "pygments_lexer": "ipython3",
   "version": "3.7.4"
  }
 },
 "nbformat": 4,
 "nbformat_minor": 5
}

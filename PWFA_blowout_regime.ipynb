{
 "cells": [
  {
   "cell_type": "markdown",
   "metadata": {},
   "source": [
    "# Research Notebook"
   ]
  },
  {
   "cell_type": "markdown",
   "metadata": {},
   "source": [
    "## 1. Make an input file\n",
    "* In the same directory as this Jupyter notebook, there must be a template input file (the default name is qpinput_template.json) and two python files: mkQPinput.py and pyVisQP.py\n",
    "\n",
    "* For the 'Units', if 'Normalized' is selected, then all the length will be in the normalized units, and the last box will be $n_{peak}/n_p$. If 'Experimental' is selected, then all the length will have the unit of $\\mu m$, and the last box will be the total charge of the beam (in $nC$)."
   ]
  },
  {
   "cell_type": "code",
   "execution_count": 14,
   "metadata": {},
   "outputs": [
    {
     "data": {
      "application/vnd.jupyter.widget-view+json": {
       "model_id": "2f0405856e604fe6811ba29fd085ec3b",
       "version_major": 2,
       "version_minor": 0
      },
      "text/plain": [
       "interactive(children=(Text(value='qpinput_template.json', description='Template Input File:', layout=Layout(wi…"
      ]
     },
     "metadata": {},
     "output_type": "display_data"
    }
   ],
   "source": [
    "from importlib import reload\n",
    "import mkQPinput\n",
    "mkQPinput = reload(mkQPinput)\n",
    "mkQPinput.makeWidgetsForInput()"
   ]
  },
  {
   "cell_type": "markdown",
   "metadata": {},
   "source": [
    "## 2. Run QuickPIC simulation"
   ]
  },
  {
   "cell_type": "code",
   "execution_count": 2,
   "metadata": {},
   "outputs": [
    {
     "name": "stdout",
     "output_type": "stream",
     "text": [
      "32\n"
     ]
    },
    {
     "data": {
      "text/plain": [
       "256"
      ]
     },
     "execution_count": 2,
     "metadata": {},
     "output_type": "execute_result"
    }
   ],
   "source": [
    "# Open a terminal and run the following lines (or something like that. For a large simulatoin, submit a batch script):\n",
    "# salloc -N 1 -C haswell -q interactive -t 01:00:00\n",
    "# srun -n 32 -c 2 --cpu_bind=cores qpic.initialDump.e"
   ]
  },
  {
   "cell_type": "markdown",
   "metadata": {},
   "source": [
    "## 3. Visualize the output data\n",
    "### 1. Plasma and beam density"
   ]
  },
  {
   "cell_type": "code",
   "execution_count": 38,
   "metadata": {},
   "outputs": [
    {
     "data": {
      "application/vnd.jupyter.widget-view+json": {
       "model_id": "c33b469cb37f4ff196b8e07403085813",
       "version_major": 2,
       "version_minor": 0
      },
      "text/plain": [
       "interactive(children=(FloatRangeSlider(value=(-5.0, 0.0), continuous_update=False, description='Colorbar:', ma…"
      ]
     },
     "metadata": {},
     "output_type": "display_data"
    }
   ],
   "source": [
    "from importlib import reload\n",
    "import pyVisQP\n",
    "pyVisQP = reload(pyVisQP)\n",
    "\n",
    "dirname = '.'\n",
    "\n",
    "# LineoutDir can be chosen from: None, 'transverse', 'longitudinal'\n",
    "\n",
    "# Plot the charge density of plasma and beam\n",
    "filename1 = dirname +'/Species0001/Charge_slice_0001/charge_slice_xz_00000001.h5'\n",
    "filename2 = dirname +'/Beam0001/Charge_slice_0001/charge_slice_xz_00000001.h5'\n",
    "filenameList = [filename1,filename2]\n",
    "scaleList = [1,1]\n",
    "pyVisQP.makeplot(filenameList,scaleList,LineoutDir = 'transverse')"
   ]
  },
  {
   "cell_type": "markdown",
   "metadata": {},
   "source": [
    "### 2. Accelerating field: $E_z$"
   ]
  },
  {
   "cell_type": "code",
   "execution_count": 30,
   "metadata": {},
   "outputs": [
    {
     "data": {
      "application/vnd.jupyter.widget-view+json": {
       "model_id": "7bb20aeedb0c45ef907dab62cca37ffe",
       "version_major": 2,
       "version_minor": 0
      },
      "text/plain": [
       "interactive(children=(FloatRangeSlider(value=(-1.0, 1.0), continuous_update=False, description='Colorbar:', ma…"
      ]
     },
     "metadata": {},
     "output_type": "display_data"
    },
    {
     "data": {
      "application/vnd.jupyter.widget-view+json": {
       "model_id": "482acf6a5e454fa68495f5d21bf6a604",
       "version_major": 2,
       "version_minor": 0
      },
      "text/plain": [
       "interactive(children=(FloatRangeSlider(value=(-1.0, 1.0), continuous_update=False, description='Colorbar:', ma…"
      ]
     },
     "metadata": {},
     "output_type": "display_data"
    }
   ],
   "source": [
    "# Plot the accelerating field with transverse lineout\n",
    "filename = dirname +'/Fields/Ez_slice0001/ezslicexz_00000001.h5'\n",
    "filenameList = [filename]\n",
    "pyVisQP.makeplot(filenameList,LineoutDir = 'longitudinal',specify_title = '$E_z \\; [mc\\omega_p / e]$')\n",
    "pyVisQP.makeplot(filenameList,LineoutDir = 'transverse',specify_title = '$E_z \\; [mc\\omega_p / e]$')"
   ]
  },
  {
   "cell_type": "markdown",
   "metadata": {},
   "source": [
    "### 3. Focusing force"
   ]
  },
  {
   "cell_type": "code",
   "execution_count": 16,
   "metadata": {},
   "outputs": [
    {
     "data": {
      "application/vnd.jupyter.widget-view+json": {
       "model_id": "f34ed6edb91f4a228c87ec087d378800",
       "version_major": 2,
       "version_minor": 0
      },
      "text/plain": [
       "interactive(children=(FloatRangeSlider(value=(-1.0, 1.0), continuous_update=False, description='Colorbar:', ma…"
      ]
     },
     "metadata": {},
     "output_type": "display_data"
    },
    {
     "data": {
      "application/vnd.jupyter.widget-view+json": {
       "model_id": "bf735b9fc4894534804a06079eedd407",
       "version_major": 2,
       "version_minor": 0
      },
      "text/plain": [
       "interactive(children=(FloatRangeSlider(value=(-1.0, 1.0), continuous_update=False, description='Colorbar:', ma…"
      ]
     },
     "metadata": {},
     "output_type": "display_data"
    }
   ],
   "source": [
    "# Plot the x component of the focusing force : Fx with transverse and longitudinal lineout\n",
    "filename1 = dirname + '/Fields/Ex_slice0001/exslicexz_00000001.h5'\n",
    "filename2 = dirname + '/Fields/By_slice0001/byslicexz_00000001.h5'\n",
    "filenameList = [filename1,filename2]\n",
    "scaleList = [-1,1]\n",
    "pyVisQP.makeplot(filenameList,scaleList,LineoutDir = 'transverse',specify_title = '$F_x \\; [mc\\omega_p]$',Show_theory = 'focus')\n",
    "pyVisQP.makeplot(filenameList,scaleList,LineoutDir = 'longitudinal',specify_title = '$F_x \\; [mc\\omega_p]$',Show_theory = 'focus')"
   ]
  },
  {
   "cell_type": "markdown",
   "metadata": {},
   "source": [
    "### 4. Delete previous output data"
   ]
  },
  {
   "cell_type": "code",
   "execution_count": 13,
   "metadata": {},
   "outputs": [
    {
     "data": {
      "text/plain": [
       "0"
      ]
     },
     "execution_count": 13,
     "metadata": {},
     "output_type": "execute_result"
    }
   ],
   "source": [
    "import os \n",
    "os.system(\"rm -r Beam000*\")\n",
    "os.system(\"rm -r Species000*\")\n",
    "os.system(\"rm -r Fields\")\n",
    "os.system(\"rm -r ELOG\")"
   ]
  }
 ],
 "metadata": {
  "kernelspec": {
   "display_name": "Python 3",
   "language": "python",
   "name": "python3"
  },
  "language_info": {
   "codemirror_mode": {
    "name": "ipython",
    "version": 3
   },
   "file_extension": ".py",
   "mimetype": "text/x-python",
   "name": "python",
   "nbconvert_exporter": "python",
   "pygments_lexer": "ipython3",
   "version": "3.7.4"
  }
 },
 "nbformat": 4,
 "nbformat_minor": 4
}

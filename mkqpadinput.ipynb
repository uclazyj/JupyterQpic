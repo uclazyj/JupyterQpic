{
 "cells": [
  {
   "cell_type": "code",
   "execution_count": 4,
   "id": "4e0d7911-8676-428f-8757-8c26e9b861d4",
   "metadata": {},
   "outputs": [],
   "source": [
    "### Users can set input parameters in this file. \n",
    "### This file will call a bunch of functions in helper.py (helper.py must be in the same folder as this file) \n",
    "### to calculate and set the parameters in qpinput.json conveniently\n",
    "\n",
    "### Before using this script, you should set n0 (plasma density) and gamma,sigma_z for each beam correctly in qpinput.json\n",
    "import numpy as np\n",
    "import matplotlib.pyplot as plt\n",
    "from importlib import reload\n",
    "import helper\n",
    "helper = reload(helper)\n",
    "from helper import *\n",
    "\n",
    "### Get plasma density from qpinput.json\n",
    "path = '..' # relative path to qpinput.json\n",
    "n0 = get_n0(path)\n",
    "\n",
    "### Set parameters for drive beam ###\n",
    "idx = 0 # Beam index\n",
    "N = 3*10**10 # number of electrons \n",
    "epsilon_n = normalize(0.1,'mm',n0)\n",
    "sigma_z = normalize(30,'um',n0)\n",
    "beam_range_num_sigma = 3\n",
    "driver_witness_distance = normalize(115,'um',n0)\n",
    "### End setting parameters for drive beam ###\n",
    "\n",
    "set_matched_beam(idx = idx,epsilon_n = epsilon_n,uniform = False,name = 'species',i = 0,path = path)\n",
    "set_one_item(sigma_z,'beam',idx,'gauss_sigma',2,path = '..')\n",
    "set_triGaussian_beam_peak_density(idx,N,path)\n",
    "set_one_item(-driver_witness_distance,'beam',idx,'gauss_center',2,path = '..')\n",
    "set_beam_range(idx,num_sigma = beam_range_num_sigma,path = '..')\n",
    "\n",
    "### Set parameters for witness beam ###\n",
    "idx = 1\n",
    "N = 10**10\n",
    "epsilon_n = normalize(0.1,'um',n0)\n",
    "sigma_z = normalize(10,'um',n0)\n",
    "beam_range_num_sigma = 5\n",
    "### End setting parameters for witness beam ###\n",
    "\n",
    "set_matched_beam(idx = idx,epsilon_n = epsilon_n,uniform = False,name = 'species',i = 0,path = path)\n",
    "set_one_item(sigma_z,'beam',idx,'gauss_sigma',2,path = '..')\n",
    "set_triGaussian_beam_peak_density(idx,N,path)\n",
    "set_beam_range(idx,num_sigma = beam_range_num_sigma,path = '..')\n",
    "\n",
    "### set ndump ###\n",
    "ndump = 20\n",
    "set_ndump(ndump,path)\n",
    "\n",
    "### set npmax for plasma particles\n",
    "extra = 32\n",
    "set_2D_npmax(extra=extra,idx=0)\n",
    "set_2D_npmax(extra=extra,idx=1)"
   ]
  },
  {
   "cell_type": "code",
   "execution_count": 5,
   "id": "6aa3facc-ccbb-4a61-97b9-06539009009c",
   "metadata": {},
   "outputs": [
    {
     "name": "stdout",
     "output_type": "stream",
     "text": [
      "The drive beam has 48058454 particles\n",
      "The witness beam has 11257346 particles\n"
     ]
    }
   ],
   "source": [
    "print('The drive beam has',int(get_beam_n_particles(0)),'particles')\n",
    "print('The witness beam has',int(get_beam_n_particles(1)),'particles')"
   ]
  },
  {
   "cell_type": "code",
   "execution_count": null,
   "id": "cf743977-de60-4623-bc6f-fa3d2669c417",
   "metadata": {},
   "outputs": [],
   "source": []
  }
 ],
 "metadata": {
  "kernelspec": {
   "display_name": "Python 3",
   "language": "python",
   "name": "python3"
  },
  "language_info": {
   "codemirror_mode": {
    "name": "ipython",
    "version": 3
   },
   "file_extension": ".py",
   "mimetype": "text/x-python",
   "name": "python",
   "nbconvert_exporter": "python",
   "pygments_lexer": "ipython3",
   "version": "3.7.4"
  }
 },
 "nbformat": 4,
 "nbformat_minor": 5
}

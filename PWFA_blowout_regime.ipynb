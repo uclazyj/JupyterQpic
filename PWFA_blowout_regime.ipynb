{
 "cells": [
  {
   "cell_type": "markdown",
   "metadata": {},
   "source": [
    "# Research Notebook"
   ]
  },
  {
   "cell_type": "markdown",
   "metadata": {},
   "source": [
    "## 1. Make an input file\n",
    "* In the same directory as this Jupyter notebook, there must be a template input file (the default name is qpinput_template.json) and two python files: mkQPinput.py and pyVisQP.py\n",
    "\n",
    "* For the 'Units', if 'Normalized' is selected, then all the length will be in the normalized units, and the last box will be $n_{peak}/n_p$. If 'Experimental' is selected, then all the length will have the unit of $\\mu m$, and the last box will be the total charge of the beam (in $nC$)."
   ]
  },
  {
   "cell_type": "code",
   "execution_count": 1,
   "metadata": {},
   "outputs": [
    {
     "data": {
      "application/vnd.jupyter.widget-view+json": {
       "model_id": "c13d68da6e40494ebcb6072ed91a1501",
       "version_major": 2,
       "version_minor": 0
      },
      "text/plain": [
       "interactive(children=(Text(value='qpinput_template.json', description='Template Input File:', layout=Layout(wi…"
      ]
     },
     "metadata": {},
     "output_type": "display_data"
    }
   ],
   "source": [
    "from importlib import reload\n",
    "import mkQPinput\n",
    "mkQPinput = reload(mkQPinput)\n",
    "mkQPinput.makeWidgetsForInput()"
   ]
  },
  {
   "cell_type": "markdown",
   "metadata": {},
   "source": [
    "## 2. Run QuickPIC simulation"
   ]
  },
  {
   "cell_type": "code",
   "execution_count": 2,
   "metadata": {},
   "outputs": [
    {
     "name": "stdout",
     "output_type": "stream",
     "text": [
      "32\n"
     ]
    },
    {
     "data": {
      "text/plain": [
       "256"
      ]
     },
     "execution_count": 2,
     "metadata": {},
     "output_type": "execute_result"
    }
   ],
   "source": [
    "# Open a terminal and run the following lines (or something like that. For a large simulatoin, submit a batch script):\n",
    "# salloc -N 1 -C haswell -q interactive -t 01:00:00\n",
    "# srun -n 32 -c 2 --cpu_bind=cores qpic.initialDump.e"
   ]
  },
  {
   "cell_type": "markdown",
   "metadata": {},
   "source": [
    "## 3. Visualize the output data\n",
    "### 1. Plasma and beam density"
   ]
  },
  {
   "cell_type": "code",
   "execution_count": 3,
   "metadata": {},
   "outputs": [],
   "source": [
    "ndump = 20"
   ]
  },
  {
   "cell_type": "code",
   "execution_count": 4,
   "metadata": {},
   "outputs": [
    {
     "data": {
      "application/vnd.jupyter.widget-view+json": {
       "model_id": "d54c314dbd564e578acff786373418ee",
       "version_major": 2,
       "version_minor": 0
      },
      "text/plain": [
       "interactive(children=(FloatRangeSlider(value=(-5.0, 0.0), continuous_update=False, description='Colorbar:', ma…"
      ]
     },
     "metadata": {},
     "output_type": "display_data"
    },
    {
     "data": {
      "application/vnd.jupyter.widget-view+json": {
       "model_id": "56dc1cd7b8684c6eb629296cfdd9e3d4",
       "version_major": 2,
       "version_minor": 0
      },
      "text/plain": [
       "interactive(children=(FloatRangeSlider(value=(-5.0, 0.0), continuous_update=False, description='Colorbar:', ma…"
      ]
     },
     "metadata": {},
     "output_type": "display_data"
    }
   ],
   "source": [
    "from importlib import reload\n",
    "import pyVisQP\n",
    "# import json\n",
    "# from collections import OrderedDict\n",
    "pyVisQP = reload(pyVisQP)\n",
    "\n",
    "# with open('../qpinput.json') as f:\n",
    "#     inputDeck = json.load(f,object_pairs_hook=OrderedDict)\n",
    "# dt = inputDeck['simulation']['dt']\n",
    "# LineoutDir can be chosen from: None, 'transverse', 'longitudinal'\n",
    "\n",
    "dirname = '..'\n",
    "\n",
    "# Plot the charge density of plasma and beam\n",
    "filename1 = dirname +'/Species0001/Charge_slice_0001/charge_slice_xz_'+str(ndump).zfill(8)+'.h5'\n",
    "filename2 = dirname +'/Beam0001/Charge_slice_0001/charge_slice_xz_'+str(ndump).zfill(8)+'.h5'\n",
    "filenameList = [filename1,filename2]\n",
    "scaleList = [1,1]\n",
    "pyVisQP.makeplot(filenameList,scaleList,LineoutDir = None)\n",
    "\n",
    "filename1 = dirname +'/Species0001/Charge_slice_0002/charge_slice_yz_'+str(ndump).zfill(8)+'.h5'\n",
    "filename2 = dirname +'/Beam0001/Charge_slice_0002/charge_slice_yz_'+str(ndump).zfill(8)+'.h5'\n",
    "filenameList = [filename1,filename2]\n",
    "scaleList = [1,1]\n",
    "pyVisQP.makeplot(filenameList,scaleList,LineoutDir = None)"
   ]
  },
  {
   "cell_type": "markdown",
   "metadata": {},
   "source": [
    "### 2. Accelerating field: $E_z$"
   ]
  },
  {
   "cell_type": "code",
   "execution_count": 4,
   "metadata": {},
   "outputs": [
    {
     "data": {
      "application/vnd.jupyter.widget-view+json": {
       "model_id": "3b3ab3e22c1c4e788096f024b7db4232",
       "version_major": 2,
       "version_minor": 0
      },
      "text/plain": [
       "interactive(children=(FloatRangeSlider(value=(-1.0, 1.0), continuous_update=False, description='Colorbar:', ma…"
      ]
     },
     "metadata": {},
     "output_type": "display_data"
    },
    {
     "data": {
      "application/vnd.jupyter.widget-view+json": {
       "model_id": "ab6666266f354bddb2400d2f0ed650e3",
       "version_major": 2,
       "version_minor": 0
      },
      "text/plain": [
       "interactive(children=(FloatRangeSlider(value=(-1.0, 1.0), continuous_update=False, description='Colorbar:', ma…"
      ]
     },
     "metadata": {},
     "output_type": "display_data"
    }
   ],
   "source": [
    "# Plot the accelerating field with transverse lineout\n",
    "filename = dirname +'/Fields/Ez_slice0001/ezslicexz_'+str(ndump).zfill(8)+'.h5'\n",
    "filenameList = [filename]\n",
    "pyVisQP.makeplot(filenameList,LineoutDir = 'longitudinal',specify_title = '$E_z \\; [mc\\omega_p / e]$')\n",
    "pyVisQP.makeplot(filenameList,LineoutDir = 'transverse',specify_title = '$E_z \\; [mc\\omega_p / e]$')"
   ]
  },
  {
   "cell_type": "markdown",
   "metadata": {},
   "source": [
    "### 3. Focusing force"
   ]
  },
  {
   "cell_type": "code",
   "execution_count": 14,
   "metadata": {},
   "outputs": [
    {
     "data": {
      "application/vnd.jupyter.widget-view+json": {
       "model_id": "dc0f063443ce49d7b008681a8c7bf83b",
       "version_major": 2,
       "version_minor": 0
      },
      "text/plain": [
       "interactive(children=(FloatRangeSlider(value=(-1.0, 1.0), continuous_update=False, description='Colorbar:', ma…"
      ]
     },
     "metadata": {},
     "output_type": "display_data"
    },
    {
     "data": {
      "application/vnd.jupyter.widget-view+json": {
       "model_id": "c964cd1065184b129eb4fd01501004db",
       "version_major": 2,
       "version_minor": 0
      },
      "text/plain": [
       "interactive(children=(FloatRangeSlider(value=(-1.0, 1.0), continuous_update=False, description='Colorbar:', ma…"
      ]
     },
     "metadata": {},
     "output_type": "display_data"
    }
   ],
   "source": [
    "# Plot the x component of the focusing force : Fx with transverse and longitudinal lineout\n",
    "filename1 = dirname + '/Fields/Ex_slice0001/exslicexz_'+str(ndump).zfill(8)+'.h5'\n",
    "filename2 = dirname + '/Fields/By_slice0001/byslicexz_'+str(ndump).zfill(8)+'.h5'\n",
    "filenameList = [filename1,filename2]\n",
    "scaleList = [-1,1]\n",
    "pyVisQP.makeplot(filenameList,scaleList,LineoutDir = 'transverse',specify_title = '$F_x \\; [mc\\omega_p]$',Show_theory = 'focus')\n",
    "pyVisQP.makeplot(filenameList,scaleList,LineoutDir = 'longitudinal',specify_title = '$F_x \\; [mc\\omega_p]$',Show_theory = 'focus')"
   ]
  },
  {
   "cell_type": "code",
   "execution_count": 15,
   "metadata": {},
   "outputs": [],
   "source": [
    "# import matplotlib.pyplot as plt\n",
    "# # -Fx\n",
    "# filename_Ex_xz = './Fields/Ex_slice0001/exslicexz_'+str(ndump).zfill(8)+'.h5'\n",
    "# filename_By_xz = './Fields/By_slice0001/byslicexz_'+str(ndump).zfill(8)+'.h5'\n",
    "# lineout_Ex_xz = pyVisQP.getLineout(filename_Ex_xz,'longitudinal',227)\n",
    "# lineout_By_xz = pyVisQP.getLineout(filename_By_xz,'longitudinal',227)\n",
    "# lineout_Fx_xz = lineout_Ex_xz.copy()\n",
    "# lineout_Fx_xz[1] = -lineout_Ex_xz[1] + lineout_By_xz[1]\n",
    "\n",
    "# # -Fy\n",
    "# filename_Ey_yz = './Fields/Ey_slice0002/eysliceyz_'+str(ndump).zfill(8)+'.h5'\n",
    "# filename_Bx_yz = './Fields/Bx_slice0002/bxsliceyz_'+str(ndump).zfill(8)+'.h5'\n",
    "# lineout_Ey_yz = pyVisQP.getLineout(filename_Ey_yz,'longitudinal',227)\n",
    "# lineout_Bx_yz = pyVisQP.getLineout(filename_Bx_yz,'longitudinal',227)\n",
    "# lineout_Fy_yz = lineout_Ey_yz.copy()\n",
    "# lineout_Fy_yz[1] = -lineout_Ey_yz[1] - lineout_Bx_yz[1]\n",
    "# # -(Fx + Fy)/2\n",
    "# lineout_average = lineout_Fx_xz.copy()\n",
    "# lineout_average[1] = (lineout_Fx_xz[1] + lineout_Fy_yz[1])/2\n",
    "\n",
    "# # -1/2\n",
    "# x = lineout_average[0]\n",
    "# y = x * 0 + 1/2\n",
    "\n",
    "# plt.plot(lineout_Fx_xz[0],lineout_Fx_xz[1],label = '$F_x$')\n",
    "# plt.plot(lineout_Fy_yz[0],lineout_Fy_yz[1],label = '$F_y$')\n",
    "# plt.plot(lineout_average[0],lineout_average[1],label = '$(F_x + F_y)/2$')\n",
    "# plt.plot(x,y,'--',label='F = 1/2')\n",
    "\n",
    "# plt.xlabel(r'$\\xi \\;\\; [c/\\omega_p]$')\n",
    "# plt.ylabel(r'Focusing force $[mc\\omega_p]$')\n",
    "# plt.title('$\\sigma_x:\\sigma_y= 3:1/3$, Lineout at x = -1')\n",
    "# plt.legend(loc='lower center')\n",
    "# plt.rcParams.update({'font.size': 12})"
   ]
  },
  {
   "cell_type": "code",
   "execution_count": 6,
   "metadata": {},
   "outputs": [
    {
     "data": {
      "application/vnd.jupyter.widget-view+json": {
       "model_id": "ffdaf3a4e1144ab981758bf27235ea57",
       "version_major": 2,
       "version_minor": 0
      },
      "text/plain": [
       "interactive(children=(IntSlider(value=0, description='center of data visualizatino region', max=3, min=-3), Fl…"
      ]
     },
     "metadata": {},
     "output_type": "display_data"
    }
   ],
   "source": [
    "pyVisQP = reload(pyVisQP)\n",
    "pyVisQP.chooseWhatToSee()"
   ]
  },
  {
   "cell_type": "code",
   "execution_count": null,
   "metadata": {},
   "outputs": [],
   "source": []
  }
 ],
 "metadata": {
  "kernelspec": {
   "display_name": "Python 3",
   "language": "python",
   "name": "python3"
  },
  "language_info": {
   "codemirror_mode": {
    "name": "ipython",
    "version": 3
   },
   "file_extension": ".py",
   "mimetype": "text/x-python",
   "name": "python",
   "nbconvert_exporter": "python",
   "pygments_lexer": "ipython3",
   "version": "3.7.4"
  }
 },
 "nbformat": 4,
 "nbformat_minor": 4
}

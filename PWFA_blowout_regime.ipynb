{
 "cells": [
  {
   "cell_type": "markdown",
   "metadata": {},
   "source": [
    "# Research Notebook"
   ]
  },
  {
   "cell_type": "markdown",
   "metadata": {},
   "source": [
    "## 1. Make an input file\n",
    "* In the same directory as this Jupyter notebook, there must be a template input file (the default name is qpinput_template.json) and two python files: mkQPinput.py and pyVisQP.py\n",
    "\n",
    "* For the 'Units', if 'Normalized' is selected, then all the length will be in the normalized units, and the last box will be $n_{peak}/n_p$. If 'Experimental' is selected, then all the length will have the unit of $\\mu m$, and the last box will be the total charge of the beam (in $nC$)."
   ]
  },
  {
   "cell_type": "code",
   "execution_count": 25,
   "metadata": {},
   "outputs": [
    {
     "data": {
      "application/vnd.jupyter.widget-view+json": {
       "model_id": "5847de147b224050aba5b29d99276e99",
       "version_major": 2,
       "version_minor": 0
      },
      "text/plain": [
       "interactive(children=(Text(value='qpinput_template.json', description='Template Input File:', layout=Layout(wi…"
      ]
     },
     "metadata": {},
     "output_type": "display_data"
    }
   ],
   "source": [
    "from importlib import reload\n",
    "# import mkQPinput\n",
    "# mkQPinput = reload(mkQPinput)\n",
    "# mkQPinput.makeWidgetsForInput()\n",
    "import mkQPinput_complicated\n",
    "mkQPinput_complicated = reload(mkQPinput_complicated)\n",
    "mkQPinput_complicated.makeWidgetsForInput()"
   ]
  },
  {
   "cell_type": "markdown",
   "metadata": {},
   "source": [
    "## 2. Run QuickPIC simulation"
   ]
  },
  {
   "cell_type": "code",
   "execution_count": 2,
   "metadata": {},
   "outputs": [
    {
     "name": "stdout",
     "output_type": "stream",
     "text": [
      "32\n"
     ]
    },
    {
     "data": {
      "text/plain": [
       "256"
      ]
     },
     "execution_count": 2,
     "metadata": {},
     "output_type": "execute_result"
    }
   ],
   "source": [
    "# Open a terminal and run the following lines (or something like that. For a large simulatoin, submit a batch script):\n",
    "# salloc -N 1 -C haswell -q interactive -t 01:00:00\n",
    "# srun -n 32 -c 2 --cpu_bind=cores qpic.initialDump.e"
   ]
  },
  {
   "cell_type": "markdown",
   "metadata": {},
   "source": [
    "## 3. Visualize the output data\n",
    "### 1. Plasma and beam density"
   ]
  },
  {
   "cell_type": "code",
   "execution_count": 28,
   "metadata": {},
   "outputs": [
    {
     "data": {
      "application/vnd.jupyter.widget-view+json": {
       "model_id": "4977583bdc2745a698e61db3a6cb59ec",
       "version_major": 2,
       "version_minor": 0
      },
      "text/plain": [
       "interactive(children=(FloatRangeSlider(value=(-5.0, 0.0), continuous_update=False, description='Colorbar:', ma…"
      ]
     },
     "metadata": {},
     "output_type": "display_data"
    },
    {
     "data": {
      "application/vnd.jupyter.widget-view+json": {
       "model_id": "991977a331084e7592d7f605fd74ef68",
       "version_major": 2,
       "version_minor": 0
      },
      "text/plain": [
       "interactive(children=(FloatRangeSlider(value=(-5.0, 0.0), continuous_update=False, description='Colorbar:', ma…"
      ]
     },
     "metadata": {},
     "output_type": "display_data"
    }
   ],
   "source": [
    "from importlib import reload\n",
    "import pyVisQP\n",
    "pyVisQP = reload(pyVisQP)\n",
    "\n",
    "dirname = '.'\n",
    "\n",
    "# LineoutDir can be chosen from: None, 'transverse', 'longitudinal'\n",
    "\n",
    "# Plot the charge density of plasma and beam\n",
    "filename1 = dirname +'/Species0001/Charge_slice_0001/charge_slice_xz_00000041.h5'\n",
    "filename2 = dirname +'/Beam0001/Charge_slice_0001/charge_slice_xz_00000041.h5'\n",
    "filename3 = dirname +'/Beam0002/Charge_slice_0001/charge_slice_xz_00000041.h5'\n",
    "filenameList = [filename1,filename2,filename3]\n",
    "scaleList = [1,1,1]\n",
    "pyVisQP.makeplot(filenameList,scaleList,LineoutDir = None)\n",
    "\n",
    "filename1 = dirname +'/Species0001/Charge_slice_0002/charge_slice_yz_00000001.h5'\n",
    "filename2 = dirname +'/Beam0001/Charge_slice_0002/charge_slice_yz_00000001.h5'\n",
    "filename3 = dirname +'/Beam0002/Charge_slice_0002/charge_slice_yz_00000001.h5'\n",
    "filenameList = [filename1,filename2,filename3]\n",
    "scaleList = [1,1,1]\n",
    "pyVisQP.makeplot(filenameList,scaleList,LineoutDir = None)"
   ]
  },
  {
   "cell_type": "markdown",
   "metadata": {},
   "source": [
    "### 2. Accelerating field: $E_z$"
   ]
  },
  {
   "cell_type": "code",
   "execution_count": 10,
   "metadata": {},
   "outputs": [
    {
     "data": {
      "application/vnd.jupyter.widget-view+json": {
       "model_id": "f9f387249f4045ee83b2931e5e6395ce",
       "version_major": 2,
       "version_minor": 0
      },
      "text/plain": [
       "interactive(children=(FloatRangeSlider(value=(-1.0, 1.0), continuous_update=False, description='Colorbar:', ma…"
      ]
     },
     "metadata": {},
     "output_type": "display_data"
    },
    {
     "data": {
      "application/vnd.jupyter.widget-view+json": {
       "model_id": "54899188c87344c880e1e297d27e42b0",
       "version_major": 2,
       "version_minor": 0
      },
      "text/plain": [
       "interactive(children=(FloatRangeSlider(value=(-1.0, 1.0), continuous_update=False, description='Colorbar:', ma…"
      ]
     },
     "metadata": {},
     "output_type": "display_data"
    }
   ],
   "source": [
    "# Plot the accelerating field with transverse lineout\n",
    "filename = dirname +'/Fields/Ez_slice0001/ezslicexz_00000001.h5'\n",
    "filenameList = [filename]\n",
    "pyVisQP.makeplot(filenameList,LineoutDir = 'longitudinal',specify_title = '$E_z \\; [mc\\omega_p / e]$')\n",
    "pyVisQP.makeplot(filenameList,LineoutDir = 'transverse',specify_title = '$E_z \\; [mc\\omega_p / e]$')"
   ]
  },
  {
   "cell_type": "markdown",
   "metadata": {},
   "source": [
    "### 3. Focusing force"
   ]
  },
  {
   "cell_type": "code",
   "execution_count": 11,
   "metadata": {},
   "outputs": [
    {
     "data": {
      "application/vnd.jupyter.widget-view+json": {
       "model_id": "69d43e782e1041a3a62cce7ca0ee64f6",
       "version_major": 2,
       "version_minor": 0
      },
      "text/plain": [
       "interactive(children=(FloatRangeSlider(value=(-1.0, 1.0), continuous_update=False, description='Colorbar:', ma…"
      ]
     },
     "metadata": {},
     "output_type": "display_data"
    },
    {
     "data": {
      "application/vnd.jupyter.widget-view+json": {
       "model_id": "9e690c864b8c4d6facecfc05ee2ad7f9",
       "version_major": 2,
       "version_minor": 0
      },
      "text/plain": [
       "interactive(children=(FloatRangeSlider(value=(-1.0, 1.0), continuous_update=False, description='Colorbar:', ma…"
      ]
     },
     "metadata": {},
     "output_type": "display_data"
    }
   ],
   "source": [
    "# Plot the x component of the focusing force : Fx with transverse and longitudinal lineout\n",
    "filename1 = dirname + '/Fields/Ex_slice0001/exslicexz_00000001.h5'\n",
    "filename2 = dirname + '/Fields/By_slice0001/byslicexz_00000001.h5'\n",
    "filenameList = [filename1,filename2]\n",
    "scaleList = [-1,1]\n",
    "pyVisQP.makeplot(filenameList,scaleList,LineoutDir = 'transverse',specify_title = '$F_x \\; [mc\\omega_p]$',Show_theory = 'focus')\n",
    "pyVisQP.makeplot(filenameList,scaleList,LineoutDir = 'longitudinal',specify_title = '$F_x \\; [mc\\omega_p]$',Show_theory = 'focus')"
   ]
  },
  {
   "cell_type": "code",
   "execution_count": 12,
   "metadata": {},
   "outputs": [
    {
     "data": {
      "image/png": "[encoded data removed]",
      "text/plain": [
       "<Figure size 432x288 with 1 Axes>"
      ]
     },
     "metadata": {
      "needs_background": "light"
     },
     "output_type": "display_data"
    }
   ],
   "source": [
    "import matplotlib.pyplot as plt\n",
    "# -Fx\n",
    "filename_Ex_xz = './Fields/Ex_slice0001/exslicexz_00000001.h5'\n",
    "filename_By_xz = './Fields/By_slice0001/byslicexz_00000001.h5'\n",
    "lineout_Ex_xz = pyVisQP.getLineout(filename_Ex_xz,'longitudinal',227)\n",
    "lineout_By_xz = pyVisQP.getLineout(filename_By_xz,'longitudinal',227)\n",
    "lineout_Fx_xz = lineout_Ex_xz.copy()\n",
    "lineout_Fx_xz[1] = -lineout_Ex_xz[1] + lineout_By_xz[1]\n",
    "\n",
    "# -Fy\n",
    "filename_Ey_yz = './Fields/Ey_slice0002/eysliceyz_00000001.h5'\n",
    "filename_Bx_yz = './Fields/Bx_slice0002/bxsliceyz_00000001.h5'\n",
    "lineout_Ey_yz = pyVisQP.getLineout(filename_Ey_yz,'longitudinal',227)\n",
    "lineout_Bx_yz = pyVisQP.getLineout(filename_Bx_yz,'longitudinal',227)\n",
    "lineout_Fy_yz = lineout_Ey_yz.copy()\n",
    "lineout_Fy_yz[1] = -lineout_Ey_yz[1] - lineout_Bx_yz[1]\n",
    "# -(Fx + Fy)/2\n",
    "lineout_average = lineout_Fx_xz.copy()\n",
    "lineout_average[1] = (lineout_Fx_xz[1] + lineout_Fy_yz[1])/2\n",
    "\n",
    "# -1/2\n",
    "x = lineout_average[0]\n",
    "y = x * 0 + 1/2\n",
    "\n",
    "plt.plot(lineout_Fx_xz[0],lineout_Fx_xz[1],label = '$F_x$')\n",
    "plt.plot(lineout_Fy_yz[0],lineout_Fy_yz[1],label = '$F_y$')\n",
    "plt.plot(lineout_average[0],lineout_average[1],label = '$(F_x + F_y)/2$')\n",
    "plt.plot(x,y,'--',label='F = 1/2')\n",
    "\n",
    "plt.xlabel(r'$\\xi \\;\\; [c/\\omega_p]$')\n",
    "plt.ylabel(r'Focusing force $[mc\\omega_p]$')\n",
    "plt.title('$\\sigma_x:\\sigma_y= 3:1/3$, Lineout at x = -1')\n",
    "plt.legend(loc='lower center')\n",
    "plt.rcParams.update({'font.size': 12})"
   ]
  },
  {
   "cell_type": "code",
   "execution_count": 26,
   "metadata": {},
   "outputs": [
    {
     "data": {
      "application/vnd.jupyter.widget-view+json": {
       "model_id": "c0af8e1ca7784b7eaff040d245903cd5",
       "version_major": 2,
       "version_minor": 0
      },
      "text/plain": [
       "interactive(children=(IntSlider(value=0, description='center of data visualizatino region', max=3, min=-3), Fl…"
      ]
     },
     "metadata": {},
     "output_type": "display_data"
    }
   ],
   "source": [
    "import beam_analysis\n",
    "beam_analysis = reload(beam_analysis)\n",
    "beam_analysis.chooseWhatToSee()"
   ]
  },
  {
   "cell_type": "markdown",
   "metadata": {},
   "source": [
    "### 4. Delete previous output data"
   ]
  },
  {
   "cell_type": "code",
   "execution_count": 13,
   "metadata": {},
   "outputs": [
    {
     "data": {
      "text/plain": [
       "0"
      ]
     },
     "execution_count": 13,
     "metadata": {},
     "output_type": "execute_result"
    }
   ],
   "source": [
    "import os \n",
    "os.system(\"rm -r Beam000*\")\n",
    "os.system(\"rm -r Species000*\")\n",
    "os.system(\"rm -r Fields\")\n",
    "os.system(\"rm -r ELOG\")"
   ]
  }
 ],
 "metadata": {
  "kernelspec": {
   "display_name": "Python 3",
   "language": "python",
   "name": "python3"
  },
  "language_info": {
   "codemirror_mode": {
    "name": "ipython",
    "version": 3
   },
   "file_extension": ".py",
   "mimetype": "text/x-python",
   "name": "python",
   "nbconvert_exporter": "python",
   "pygments_lexer": "ipython3",
   "version": "3.7.4"
  }
 },
 "nbformat": 4,
 "nbformat_minor": 4
}
